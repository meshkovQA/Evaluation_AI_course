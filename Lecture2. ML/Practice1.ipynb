{
 "cells": [
  {
   "cell_type": "markdown",
   "id": "06a121a6-f18b-46ea-966c-5b062c207853",
   "metadata": {},
   "source": [
    "# Простое введение в машинное обучение для тестировщиков\n",
    "# Jupyter Notebook с пошаговыми объяснениями\n",
    "\n",
    "## Шаг 1. Устанавливаем на компьютер нужные библиотеки для работы"
   ]
  },
  {
   "cell_type": "code",
   "execution_count": 1,
   "id": "ef94aa45-610e-4d7c-af14-8885dd12bd17",
   "metadata": {},
   "outputs": [
    {
     "name": "stdout",
     "output_type": "stream",
     "text": [
      "Requirement already satisfied: scikit-learn in /Library/Frameworks/Python.framework/Versions/3.12/lib/python3.12/site-packages (1.5.0)\n",
      "Requirement already satisfied: pandas in /Library/Frameworks/Python.framework/Versions/3.12/lib/python3.12/site-packages (2.2.3)\n",
      "Requirement already satisfied: numpy in /Library/Frameworks/Python.framework/Versions/3.12/lib/python3.12/site-packages (1.26.4)\n",
      "Requirement already satisfied: matplotlib in /Library/Frameworks/Python.framework/Versions/3.12/lib/python3.12/site-packages (3.9.0)\n",
      "Requirement already satisfied: seaborn in /Library/Frameworks/Python.framework/Versions/3.12/lib/python3.12/site-packages (0.13.2)\n",
      "Requirement already satisfied: jupyter in /Library/Frameworks/Python.framework/Versions/3.12/lib/python3.12/site-packages (1.1.1)\n",
      "Requirement already satisfied: scipy>=1.6.0 in /Library/Frameworks/Python.framework/Versions/3.12/lib/python3.12/site-packages (from scikit-learn) (1.13.1)\n",
      "Requirement already satisfied: joblib>=1.2.0 in /Library/Frameworks/Python.framework/Versions/3.12/lib/python3.12/site-packages (from scikit-learn) (1.4.2)\n",
      "Requirement already satisfied: threadpoolctl>=3.1.0 in /Library/Frameworks/Python.framework/Versions/3.12/lib/python3.12/site-packages (from scikit-learn) (3.5.0)\n",
      "Requirement already satisfied: python-dateutil>=2.8.2 in /Library/Frameworks/Python.framework/Versions/3.12/lib/python3.12/site-packages (from pandas) (2.9.0.post0)\n",
      "Requirement already satisfied: pytz>=2020.1 in /Library/Frameworks/Python.framework/Versions/3.12/lib/python3.12/site-packages (from pandas) (2024.1)\n",
      "Requirement already satisfied: tzdata>=2022.7 in /Library/Frameworks/Python.framework/Versions/3.12/lib/python3.12/site-packages (from pandas) (2024.1)\n",
      "Requirement already satisfied: contourpy>=1.0.1 in /Library/Frameworks/Python.framework/Versions/3.12/lib/python3.12/site-packages (from matplotlib) (1.2.1)\n",
      "Requirement already satisfied: cycler>=0.10 in /Library/Frameworks/Python.framework/Versions/3.12/lib/python3.12/site-packages (from matplotlib) (0.12.1)\n",
      "Requirement already satisfied: fonttools>=4.22.0 in /Library/Frameworks/Python.framework/Versions/3.12/lib/python3.12/site-packages (from matplotlib) (4.53.0)\n",
      "Requirement already satisfied: kiwisolver>=1.3.1 in /Library/Frameworks/Python.framework/Versions/3.12/lib/python3.12/site-packages (from matplotlib) (1.4.5)\n",
      "Requirement already satisfied: packaging>=20.0 in /Library/Frameworks/Python.framework/Versions/3.12/lib/python3.12/site-packages (from matplotlib) (23.2)\n",
      "Requirement already satisfied: pillow>=8 in /Library/Frameworks/Python.framework/Versions/3.12/lib/python3.12/site-packages (from matplotlib) (10.3.0)\n",
      "Requirement already satisfied: pyparsing>=2.3.1 in /Library/Frameworks/Python.framework/Versions/3.12/lib/python3.12/site-packages (from matplotlib) (3.1.2)\n",
      "Requirement already satisfied: notebook in /Library/Frameworks/Python.framework/Versions/3.12/lib/python3.12/site-packages (from jupyter) (7.2.0)\n",
      "Requirement already satisfied: jupyter-console in /Library/Frameworks/Python.framework/Versions/3.12/lib/python3.12/site-packages (from jupyter) (6.6.3)\n",
      "Requirement already satisfied: nbconvert in /Library/Frameworks/Python.framework/Versions/3.12/lib/python3.12/site-packages (from jupyter) (7.16.4)\n",
      "Requirement already satisfied: ipykernel in /Library/Frameworks/Python.framework/Versions/3.12/lib/python3.12/site-packages (from jupyter) (6.29.4)\n",
      "Requirement already satisfied: ipywidgets in /Library/Frameworks/Python.framework/Versions/3.12/lib/python3.12/site-packages (from jupyter) (8.1.3)\n",
      "Requirement already satisfied: jupyterlab in /Library/Frameworks/Python.framework/Versions/3.12/lib/python3.12/site-packages (from jupyter) (4.2.1)\n",
      "Requirement already satisfied: six>=1.5 in /Library/Frameworks/Python.framework/Versions/3.12/lib/python3.12/site-packages (from python-dateutil>=2.8.2->pandas) (1.16.0)\n",
      "Requirement already satisfied: appnope in /Library/Frameworks/Python.framework/Versions/3.12/lib/python3.12/site-packages (from ipykernel->jupyter) (0.1.4)\n",
      "Requirement already satisfied: comm>=0.1.1 in /Library/Frameworks/Python.framework/Versions/3.12/lib/python3.12/site-packages (from ipykernel->jupyter) (0.2.2)\n",
      "Requirement already satisfied: debugpy>=1.6.5 in /Library/Frameworks/Python.framework/Versions/3.12/lib/python3.12/site-packages (from ipykernel->jupyter) (1.8.1)\n",
      "Requirement already satisfied: ipython>=7.23.1 in /Library/Frameworks/Python.framework/Versions/3.12/lib/python3.12/site-packages (from ipykernel->jupyter) (8.24.0)\n",
      "Requirement already satisfied: jupyter-client>=6.1.12 in /Library/Frameworks/Python.framework/Versions/3.12/lib/python3.12/site-packages (from ipykernel->jupyter) (8.6.2)\n",
      "Requirement already satisfied: jupyter-core!=5.0.*,>=4.12 in /Library/Frameworks/Python.framework/Versions/3.12/lib/python3.12/site-packages (from ipykernel->jupyter) (5.7.2)\n",
      "Requirement already satisfied: matplotlib-inline>=0.1 in /Library/Frameworks/Python.framework/Versions/3.12/lib/python3.12/site-packages (from ipykernel->jupyter) (0.1.7)\n",
      "Requirement already satisfied: nest-asyncio in /Library/Frameworks/Python.framework/Versions/3.12/lib/python3.12/site-packages (from ipykernel->jupyter) (1.6.0)\n",
      "Requirement already satisfied: psutil in /Library/Frameworks/Python.framework/Versions/3.12/lib/python3.12/site-packages (from ipykernel->jupyter) (5.9.8)\n",
      "Requirement already satisfied: pyzmq>=24 in /Library/Frameworks/Python.framework/Versions/3.12/lib/python3.12/site-packages (from ipykernel->jupyter) (26.0.3)\n",
      "Requirement already satisfied: tornado>=6.1 in /Library/Frameworks/Python.framework/Versions/3.12/lib/python3.12/site-packages (from ipykernel->jupyter) (6.4)\n",
      "Requirement already satisfied: traitlets>=5.4.0 in /Library/Frameworks/Python.framework/Versions/3.12/lib/python3.12/site-packages (from ipykernel->jupyter) (5.14.3)\n",
      "Requirement already satisfied: widgetsnbextension~=4.0.11 in /Library/Frameworks/Python.framework/Versions/3.12/lib/python3.12/site-packages (from ipywidgets->jupyter) (4.0.11)\n",
      "Requirement already satisfied: jupyterlab-widgets~=3.0.11 in /Library/Frameworks/Python.framework/Versions/3.12/lib/python3.12/site-packages (from ipywidgets->jupyter) (3.0.11)\n",
      "Requirement already satisfied: prompt-toolkit>=3.0.30 in /Library/Frameworks/Python.framework/Versions/3.12/lib/python3.12/site-packages (from jupyter-console->jupyter) (3.0.44)\n",
      "Requirement already satisfied: pygments in /Library/Frameworks/Python.framework/Versions/3.12/lib/python3.12/site-packages (from jupyter-console->jupyter) (2.18.0)\n",
      "Requirement already satisfied: async-lru>=1.0.0 in /Library/Frameworks/Python.framework/Versions/3.12/lib/python3.12/site-packages (from jupyterlab->jupyter) (2.0.4)\n",
      "Requirement already satisfied: httpx>=0.25.0 in /Library/Frameworks/Python.framework/Versions/3.12/lib/python3.12/site-packages (from jupyterlab->jupyter) (0.27.0)\n",
      "Requirement already satisfied: jinja2>=3.0.3 in /Library/Frameworks/Python.framework/Versions/3.12/lib/python3.12/site-packages (from jupyterlab->jupyter) (3.1.4)\n",
      "Requirement already satisfied: jupyter-lsp>=2.0.0 in /Library/Frameworks/Python.framework/Versions/3.12/lib/python3.12/site-packages (from jupyterlab->jupyter) (2.2.5)\n",
      "Requirement already satisfied: jupyter-server<3,>=2.4.0 in /Library/Frameworks/Python.framework/Versions/3.12/lib/python3.12/site-packages (from jupyterlab->jupyter) (2.14.0)\n",
      "Requirement already satisfied: jupyterlab-server<3,>=2.27.1 in /Library/Frameworks/Python.framework/Versions/3.12/lib/python3.12/site-packages (from jupyterlab->jupyter) (2.27.2)\n",
      "Requirement already satisfied: notebook-shim>=0.2 in /Library/Frameworks/Python.framework/Versions/3.12/lib/python3.12/site-packages (from jupyterlab->jupyter) (0.2.4)\n",
      "Requirement already satisfied: beautifulsoup4 in /Library/Frameworks/Python.framework/Versions/3.12/lib/python3.12/site-packages (from nbconvert->jupyter) (4.12.3)\n",
      "Requirement already satisfied: bleach!=5.0.0 in /Library/Frameworks/Python.framework/Versions/3.12/lib/python3.12/site-packages (from nbconvert->jupyter) (6.1.0)\n",
      "Requirement already satisfied: defusedxml in /Library/Frameworks/Python.framework/Versions/3.12/lib/python3.12/site-packages (from nbconvert->jupyter) (0.7.1)\n",
      "Requirement already satisfied: jupyterlab-pygments in /Library/Frameworks/Python.framework/Versions/3.12/lib/python3.12/site-packages (from nbconvert->jupyter) (0.3.0)\n",
      "Requirement already satisfied: markupsafe>=2.0 in /Library/Frameworks/Python.framework/Versions/3.12/lib/python3.12/site-packages (from nbconvert->jupyter) (2.1.5)\n",
      "Requirement already satisfied: mistune<4,>=2.0.3 in /Library/Frameworks/Python.framework/Versions/3.12/lib/python3.12/site-packages (from nbconvert->jupyter) (3.0.2)\n",
      "Requirement already satisfied: nbclient>=0.5.0 in /Library/Frameworks/Python.framework/Versions/3.12/lib/python3.12/site-packages (from nbconvert->jupyter) (0.10.0)\n",
      "Requirement already satisfied: nbformat>=5.7 in /Library/Frameworks/Python.framework/Versions/3.12/lib/python3.12/site-packages (from nbconvert->jupyter) (5.10.4)\n",
      "Requirement already satisfied: pandocfilters>=1.4.1 in /Library/Frameworks/Python.framework/Versions/3.12/lib/python3.12/site-packages (from nbconvert->jupyter) (1.5.1)\n",
      "Requirement already satisfied: tinycss2 in /Library/Frameworks/Python.framework/Versions/3.12/lib/python3.12/site-packages (from nbconvert->jupyter) (1.3.0)\n",
      "Requirement already satisfied: webencodings in /Library/Frameworks/Python.framework/Versions/3.12/lib/python3.12/site-packages (from bleach!=5.0.0->nbconvert->jupyter) (0.5.1)\n",
      "Requirement already satisfied: anyio in /Library/Frameworks/Python.framework/Versions/3.12/lib/python3.12/site-packages (from httpx>=0.25.0->jupyterlab->jupyter) (4.4.0)\n",
      "Requirement already satisfied: certifi in /Library/Frameworks/Python.framework/Versions/3.12/lib/python3.12/site-packages (from httpx>=0.25.0->jupyterlab->jupyter) (2025.1.31)\n",
      "Requirement already satisfied: httpcore==1.* in /Library/Frameworks/Python.framework/Versions/3.12/lib/python3.12/site-packages (from httpx>=0.25.0->jupyterlab->jupyter) (1.0.5)\n",
      "Requirement already satisfied: idna in /Library/Frameworks/Python.framework/Versions/3.12/lib/python3.12/site-packages (from httpx>=0.25.0->jupyterlab->jupyter) (3.7)\n",
      "Requirement already satisfied: sniffio in /Library/Frameworks/Python.framework/Versions/3.12/lib/python3.12/site-packages (from httpx>=0.25.0->jupyterlab->jupyter) (1.3.1)\n",
      "Requirement already satisfied: h11<0.15,>=0.13 in /Library/Frameworks/Python.framework/Versions/3.12/lib/python3.12/site-packages (from httpcore==1.*->httpx>=0.25.0->jupyterlab->jupyter) (0.14.0)\n",
      "Requirement already satisfied: decorator in /Library/Frameworks/Python.framework/Versions/3.12/lib/python3.12/site-packages (from ipython>=7.23.1->ipykernel->jupyter) (5.1.1)\n",
      "Requirement already satisfied: jedi>=0.16 in /Library/Frameworks/Python.framework/Versions/3.12/lib/python3.12/site-packages (from ipython>=7.23.1->ipykernel->jupyter) (0.19.1)\n",
      "Requirement already satisfied: stack-data in /Library/Frameworks/Python.framework/Versions/3.12/lib/python3.12/site-packages (from ipython>=7.23.1->ipykernel->jupyter) (0.6.3)\n",
      "Requirement already satisfied: pexpect>4.3 in /Library/Frameworks/Python.framework/Versions/3.12/lib/python3.12/site-packages (from ipython>=7.23.1->ipykernel->jupyter) (4.9.0)\n",
      "Requirement already satisfied: platformdirs>=2.5 in /Library/Frameworks/Python.framework/Versions/3.12/lib/python3.12/site-packages (from jupyter-core!=5.0.*,>=4.12->ipykernel->jupyter) (4.2.2)\n",
      "Requirement already satisfied: argon2-cffi>=21.1 in /Library/Frameworks/Python.framework/Versions/3.12/lib/python3.12/site-packages (from jupyter-server<3,>=2.4.0->jupyterlab->jupyter) (23.1.0)\n",
      "Requirement already satisfied: jupyter-events>=0.9.0 in /Library/Frameworks/Python.framework/Versions/3.12/lib/python3.12/site-packages (from jupyter-server<3,>=2.4.0->jupyterlab->jupyter) (0.10.0)\n",
      "Requirement already satisfied: jupyter-server-terminals>=0.4.4 in /Library/Frameworks/Python.framework/Versions/3.12/lib/python3.12/site-packages (from jupyter-server<3,>=2.4.0->jupyterlab->jupyter) (0.5.3)\n",
      "Requirement already satisfied: overrides>=5.0 in /Library/Frameworks/Python.framework/Versions/3.12/lib/python3.12/site-packages (from jupyter-server<3,>=2.4.0->jupyterlab->jupyter) (7.7.0)\n",
      "Requirement already satisfied: prometheus-client>=0.9 in /Library/Frameworks/Python.framework/Versions/3.12/lib/python3.12/site-packages (from jupyter-server<3,>=2.4.0->jupyterlab->jupyter) (0.20.0)\n",
      "Requirement already satisfied: send2trash>=1.8.2 in /Library/Frameworks/Python.framework/Versions/3.12/lib/python3.12/site-packages (from jupyter-server<3,>=2.4.0->jupyterlab->jupyter) (1.8.3)\n",
      "Requirement already satisfied: terminado>=0.8.3 in /Library/Frameworks/Python.framework/Versions/3.12/lib/python3.12/site-packages (from jupyter-server<3,>=2.4.0->jupyterlab->jupyter) (0.18.1)\n",
      "Requirement already satisfied: websocket-client>=1.7 in /Library/Frameworks/Python.framework/Versions/3.12/lib/python3.12/site-packages (from jupyter-server<3,>=2.4.0->jupyterlab->jupyter) (1.8.0)\n",
      "Requirement already satisfied: babel>=2.10 in /Library/Frameworks/Python.framework/Versions/3.12/lib/python3.12/site-packages (from jupyterlab-server<3,>=2.27.1->jupyterlab->jupyter) (2.15.0)\n",
      "Requirement already satisfied: json5>=0.9.0 in /Library/Frameworks/Python.framework/Versions/3.12/lib/python3.12/site-packages (from jupyterlab-server<3,>=2.27.1->jupyterlab->jupyter) (0.9.25)\n",
      "Requirement already satisfied: jsonschema>=4.18.0 in /Library/Frameworks/Python.framework/Versions/3.12/lib/python3.12/site-packages (from jupyterlab-server<3,>=2.27.1->jupyterlab->jupyter) (4.22.0)\n",
      "Requirement already satisfied: requests>=2.31 in /Library/Frameworks/Python.framework/Versions/3.12/lib/python3.12/site-packages (from jupyterlab-server<3,>=2.27.1->jupyterlab->jupyter) (2.32.3)\n",
      "Requirement already satisfied: fastjsonschema>=2.15 in /Library/Frameworks/Python.framework/Versions/3.12/lib/python3.12/site-packages (from nbformat>=5.7->nbconvert->jupyter) (2.19.1)\n",
      "Requirement already satisfied: wcwidth in /Library/Frameworks/Python.framework/Versions/3.12/lib/python3.12/site-packages (from prompt-toolkit>=3.0.30->jupyter-console->jupyter) (0.2.13)\n",
      "Requirement already satisfied: soupsieve>1.2 in /Library/Frameworks/Python.framework/Versions/3.12/lib/python3.12/site-packages (from beautifulsoup4->nbconvert->jupyter) (2.5)\n",
      "Requirement already satisfied: argon2-cffi-bindings in /Library/Frameworks/Python.framework/Versions/3.12/lib/python3.12/site-packages (from argon2-cffi>=21.1->jupyter-server<3,>=2.4.0->jupyterlab->jupyter) (21.2.0)\n",
      "Requirement already satisfied: parso<0.9.0,>=0.8.3 in /Library/Frameworks/Python.framework/Versions/3.12/lib/python3.12/site-packages (from jedi>=0.16->ipython>=7.23.1->ipykernel->jupyter) (0.8.4)\n",
      "Requirement already satisfied: attrs>=22.2.0 in /Library/Frameworks/Python.framework/Versions/3.12/lib/python3.12/site-packages (from jsonschema>=4.18.0->jupyterlab-server<3,>=2.27.1->jupyterlab->jupyter) (23.2.0)\n",
      "Requirement already satisfied: jsonschema-specifications>=2023.03.6 in /Library/Frameworks/Python.framework/Versions/3.12/lib/python3.12/site-packages (from jsonschema>=4.18.0->jupyterlab-server<3,>=2.27.1->jupyterlab->jupyter) (2023.12.1)\n",
      "Requirement already satisfied: referencing>=0.28.4 in /Library/Frameworks/Python.framework/Versions/3.12/lib/python3.12/site-packages (from jsonschema>=4.18.0->jupyterlab-server<3,>=2.27.1->jupyterlab->jupyter) (0.35.1)\n",
      "Requirement already satisfied: rpds-py>=0.7.1 in /Library/Frameworks/Python.framework/Versions/3.12/lib/python3.12/site-packages (from jsonschema>=4.18.0->jupyterlab-server<3,>=2.27.1->jupyterlab->jupyter) (0.18.1)\n",
      "Requirement already satisfied: python-json-logger>=2.0.4 in /Library/Frameworks/Python.framework/Versions/3.12/lib/python3.12/site-packages (from jupyter-events>=0.9.0->jupyter-server<3,>=2.4.0->jupyterlab->jupyter) (2.0.7)\n",
      "Requirement already satisfied: pyyaml>=5.3 in /Library/Frameworks/Python.framework/Versions/3.12/lib/python3.12/site-packages (from jupyter-events>=0.9.0->jupyter-server<3,>=2.4.0->jupyterlab->jupyter) (6.0.1)\n",
      "Requirement already satisfied: rfc3339-validator in /Library/Frameworks/Python.framework/Versions/3.12/lib/python3.12/site-packages (from jupyter-events>=0.9.0->jupyter-server<3,>=2.4.0->jupyterlab->jupyter) (0.1.4)\n",
      "Requirement already satisfied: rfc3986-validator>=0.1.1 in /Library/Frameworks/Python.framework/Versions/3.12/lib/python3.12/site-packages (from jupyter-events>=0.9.0->jupyter-server<3,>=2.4.0->jupyterlab->jupyter) (0.1.1)\n",
      "Requirement already satisfied: ptyprocess>=0.5 in /Library/Frameworks/Python.framework/Versions/3.12/lib/python3.12/site-packages (from pexpect>4.3->ipython>=7.23.1->ipykernel->jupyter) (0.7.0)\n",
      "Requirement already satisfied: charset-normalizer<4,>=2 in /Library/Frameworks/Python.framework/Versions/3.12/lib/python3.12/site-packages (from requests>=2.31->jupyterlab-server<3,>=2.27.1->jupyterlab->jupyter) (3.3.2)\n",
      "Requirement already satisfied: urllib3<3,>=1.21.1 in /Library/Frameworks/Python.framework/Versions/3.12/lib/python3.12/site-packages (from requests>=2.31->jupyterlab-server<3,>=2.27.1->jupyterlab->jupyter) (2.3.0)\n",
      "Requirement already satisfied: executing>=1.2.0 in /Library/Frameworks/Python.framework/Versions/3.12/lib/python3.12/site-packages (from stack-data->ipython>=7.23.1->ipykernel->jupyter) (2.0.1)\n",
      "Requirement already satisfied: asttokens>=2.1.0 in /Library/Frameworks/Python.framework/Versions/3.12/lib/python3.12/site-packages (from stack-data->ipython>=7.23.1->ipykernel->jupyter) (2.4.1)\n",
      "Requirement already satisfied: pure-eval in /Library/Frameworks/Python.framework/Versions/3.12/lib/python3.12/site-packages (from stack-data->ipython>=7.23.1->ipykernel->jupyter) (0.2.2)\n",
      "Requirement already satisfied: fqdn in /Library/Frameworks/Python.framework/Versions/3.12/lib/python3.12/site-packages (from jsonschema[format-nongpl]>=4.18.0->jupyter-events>=0.9.0->jupyter-server<3,>=2.4.0->jupyterlab->jupyter) (1.5.1)\n",
      "Requirement already satisfied: isoduration in /Library/Frameworks/Python.framework/Versions/3.12/lib/python3.12/site-packages (from jsonschema[format-nongpl]>=4.18.0->jupyter-events>=0.9.0->jupyter-server<3,>=2.4.0->jupyterlab->jupyter) (20.11.0)\n",
      "Requirement already satisfied: jsonpointer>1.13 in /Library/Frameworks/Python.framework/Versions/3.12/lib/python3.12/site-packages (from jsonschema[format-nongpl]>=4.18.0->jupyter-events>=0.9.0->jupyter-server<3,>=2.4.0->jupyterlab->jupyter) (2.4)\n",
      "Requirement already satisfied: uri-template in /Library/Frameworks/Python.framework/Versions/3.12/lib/python3.12/site-packages (from jsonschema[format-nongpl]>=4.18.0->jupyter-events>=0.9.0->jupyter-server<3,>=2.4.0->jupyterlab->jupyter) (1.3.0)\n",
      "Requirement already satisfied: webcolors>=1.11 in /Library/Frameworks/Python.framework/Versions/3.12/lib/python3.12/site-packages (from jsonschema[format-nongpl]>=4.18.0->jupyter-events>=0.9.0->jupyter-server<3,>=2.4.0->jupyterlab->jupyter) (1.13)\n",
      "Requirement already satisfied: cffi>=1.0.1 in /Library/Frameworks/Python.framework/Versions/3.12/lib/python3.12/site-packages (from argon2-cffi-bindings->argon2-cffi>=21.1->jupyter-server<3,>=2.4.0->jupyterlab->jupyter) (1.16.0)\n",
      "Requirement already satisfied: pycparser in /Library/Frameworks/Python.framework/Versions/3.12/lib/python3.12/site-packages (from cffi>=1.0.1->argon2-cffi-bindings->argon2-cffi>=21.1->jupyter-server<3,>=2.4.0->jupyterlab->jupyter) (2.22)\n",
      "Requirement already satisfied: arrow>=0.15.0 in /Library/Frameworks/Python.framework/Versions/3.12/lib/python3.12/site-packages (from isoduration->jsonschema[format-nongpl]>=4.18.0->jupyter-events>=0.9.0->jupyter-server<3,>=2.4.0->jupyterlab->jupyter) (1.3.0)\n",
      "Requirement already satisfied: types-python-dateutil>=2.8.10 in /Library/Frameworks/Python.framework/Versions/3.12/lib/python3.12/site-packages (from arrow>=0.15.0->isoduration->jsonschema[format-nongpl]>=4.18.0->jupyter-events>=0.9.0->jupyter-server<3,>=2.4.0->jupyterlab->jupyter) (2.9.0.20240316)\n",
      "\n",
      "\u001b[1m[\u001b[0m\u001b[34;49mnotice\u001b[0m\u001b[1;39;49m]\u001b[0m\u001b[39;49m A new release of pip is available: \u001b[0m\u001b[31;49m24.1\u001b[0m\u001b[39;49m -> \u001b[0m\u001b[32;49m25.2\u001b[0m\n",
      "\u001b[1m[\u001b[0m\u001b[34;49mnotice\u001b[0m\u001b[1;39;49m]\u001b[0m\u001b[39;49m To update, run: \u001b[0m\u001b[32;49m/Library/Frameworks/Python.framework/Versions/3.12/bin/python3.12 -m pip install --upgrade pip\u001b[0m\n",
      "Note: you may need to restart the kernel to use updated packages.\n"
     ]
    }
   ],
   "source": [
    "pip install scikit-learn pandas numpy matplotlib seaborn jupyter"
   ]
  },
  {
   "cell_type": "markdown",
   "id": "b2903d48-1a28-4c07-8355-fd0c65f28aff",
   "metadata": {},
   "source": [
    "## Шаг 2: Подключаем необходимые библиотеки"
   ]
  },
  {
   "cell_type": "code",
   "execution_count": 2,
   "id": "42f9a130-f0a5-4830-bc5b-14bd3e70f259",
   "metadata": {},
   "outputs": [],
   "source": [
    "# Импортируем библиотеки - это как подключение инструментов для работы\n",
    "import pandas as pd  # Для работы с таблицами данных\n",
    "import numpy as np   # Для математических операций\n",
    "from sklearn.datasets import load_breast_cancer  # Готовый датасет для примера\n",
    "from sklearn.model_selection import train_test_split  # Функция для разделения данных\n",
    "from sklearn.ensemble import RandomForestClassifier  # Наша модель машинного обучения\n",
    "from sklearn.metrics import accuracy_score, precision_score, recall_score, f1_score  # Метрики для оценки"
   ]
  },
  {
   "cell_type": "markdown",
   "id": "b7660794-6d74-4cf4-93b8-8a9b3f2ef6f7",
   "metadata": {},
   "source": [
    "## Шаг 3: Загружаем датасет"
   ]
  },
  {
   "cell_type": "code",
   "execution_count": 3,
   "id": "78d1cccb-0846-4741-a017-614518321b45",
   "metadata": {},
   "outputs": [
    {
     "name": "stdout",
     "output_type": "stream",
     "text": [
      "dict_keys(['data', 'target', 'frame', 'target_names', 'DESCR', 'feature_names', 'filename', 'data_module'])\n"
     ]
    }
   ],
   "source": [
    "# Загружаем датасет рака молочной железы\n",
    "# Это готовый набор данных, который часто используют для обучения\n",
    "cancer_data = load_breast_cancer()\n",
    "\n",
    "# Показывает, какие \"ключи\" есть внутри объекта\n",
    "print(cancer_data.keys())"
   ]
  },
  {
   "cell_type": "code",
   "execution_count": 4,
   "id": "18dd4a6e-c402-47cc-a72c-2eacc28fb151",
   "metadata": {},
   "outputs": [
    {
     "name": "stdout",
     "output_type": "stream",
     "text": [
      "📊 Информация о датасете:\n",
      "Количество пациентов: 569\n",
      "Количество признаков: 30\n",
      "Названия признаков: ['mean radius' 'mean texture' 'mean perimeter' 'mean area'\n",
      " 'mean smoothness' 'mean compactness' 'mean concavity'\n",
      " 'mean concave points' 'mean symmetry' 'mean fractal dimension'\n",
      " 'radius error' 'texture error' 'perimeter error' 'area error'\n",
      " 'smoothness error' 'compactness error' 'concavity error'\n",
      " 'concave points error' 'symmetry error' 'fractal dimension error'\n",
      " 'worst radius' 'worst texture' 'worst perimeter' 'worst area'\n",
      " 'worst smoothness' 'worst compactness' 'worst concavity'\n",
      " 'worst concave points' 'worst symmetry' 'worst fractal dimension']\n",
      "Названия классов: злокачественная, доброкачественная ['malignant' 'benign']\n"
     ]
    }
   ],
   "source": [
    "# Получаем данные (признаки) и ответы (диагнозы)\n",
    "X = cancer_data.data     # X - это признаки (размер опухоли, форма клеток и т.д.)\n",
    "y = cancer_data.target   # y - это ответы (0 = злокачественная, 1 = доброкачественная)\n",
    "\n",
    "print(\"📊 Информация о датасете:\")\n",
    "print(f\"Количество пациентов: {X.shape[0]}\")\n",
    "print(f\"Количество признаков: {X.shape[1]}\")\n",
    "print(f\"Названия признаков: {cancer_data.feature_names}\")\n",
    "print(f\"Названия классов: злокачественная, доброкачественная {cancer_data.target_names}\")"
   ]
  },
  {
   "cell_type": "code",
   "execution_count": 5,
   "id": "8a4ecfd0-2670-4441-ba34-8d5c55dae75d",
   "metadata": {},
   "outputs": [
    {
     "name": "stdout",
     "output_type": "stream",
     "text": [
      "  malignant: 212 случаев\n",
      "  benign: 357 случаев\n"
     ]
    }
   ],
   "source": [
    "# Посмотрим, сколько каких диагнозов\n",
    "# Функция np.unique возвращает уникальные значения массива y (например, классы в задаче классификации)\n",
    "# Параметр return_counts=True дополнительно возвращает количество вхождений каждого уникального значения\n",
    "unique, counts = np.unique(y, return_counts=True)\n",
    "\n",
    "# Перебираем одновременно индексы (i) и пары (class_val, count), \n",
    "# где class_val — это уникальное значение класса, а count — количество элементов этого класса в y\n",
    "for i, (class_val, count) in enumerate(zip(unique, counts)):\n",
    "    class_name = cancer_data.target_names[i]\n",
    "\n",
    "    # Выводим название класса и количество случаев в формате:\n",
    "    #   \"имя класса: число случаев\"\n",
    "    print(f\"  {class_name}: {count} случаев\")"
   ]
  },
  {
   "cell_type": "markdown",
   "id": "ced9a5fd-c5ce-4a21-b41d-ae20760ecf31",
   "metadata": {
    "jp-MarkdownHeadingCollapsed": true
   },
   "source": [
    "### Что происходит:\n",
    "\n",
    "#### Мы загружаем готовый набор данных о раке молочной железы\n",
    "#### X содержит измерения (как размер клеток, их форма и т.д.)\n",
    "#### y содержит правильные ответы (злокачественная или доброкачественная опухоль)\n",
    "#### Это как база данных, где для каждого пациента есть анализы и правильный диагноз"
   ]
  },
  {
   "cell_type": "markdown",
   "id": "0a3f83f6-261c-407f-b4ad-be417b63c523",
   "metadata": {},
   "source": [
    "## Шаг 4: Разделяем данные на обучение и тестирование"
   ]
  },
  {
   "cell_type": "code",
   "execution_count": 6,
   "id": "a6ccbb04-d471-4f68-9e12-b3902125a8c4",
   "metadata": {},
   "outputs": [
    {
     "name": "stdout",
     "output_type": "stream",
     "text": [
      "📊 Разделение данных:\n",
      "Для обучения: 455 пациентов\n",
      "Для тестирования: 114 пациентов\n"
     ]
    }
   ],
   "source": [
    "# Разделяем данные на 2 части:\n",
    "# 80% - для обучения модели (train)\n",
    "# 20% - для проверки качества (test)\n",
    "\n",
    "X_train, X_test, y_train, y_test = train_test_split(\n",
    "    X, y,                    # Наши данные\n",
    "    test_size=0.2,          # 20% данных оставляем для тестирования\n",
    "    random_state=42         # Фиксируем случайность для повторяемости результатов\n",
    ")\n",
    "\n",
    "# После разбиения у нас появляются 4 отдельных набора данных:\n",
    "\n",
    "# 1. X_train — признаки для обучения (80% строк из X)\n",
    "#    Используется моделью для поиска закономерностей между признаками и диагнозами.\n",
    "\n",
    "# 2. y_train — правильные ответы для обучения (80% строк из y)\n",
    "#    Это целевые метки, которые соответствуют X_train и нужны для того,\n",
    "#    чтобы модель знала \"правду\" во время тренировки.\n",
    "\n",
    "# 3. X_test — признаки для проверки (20% строк из X, которых модель не видела во время обучения)\n",
    "#    Нужны для того, чтобы проверить модель на новых пациентах.\n",
    "\n",
    "# 4. y_test — правильные ответы для X_test (20% строк из y)\n",
    "#    Используются только для оценки качества: сравниваем предсказания модели (y_pred) с этими реальными диагнозами.\n",
    "\n",
    "print(\"📊 Разделение данных:\")\n",
    "print(f\"Для обучения: {X_train.shape[0]} пациентов\")\n",
    "print(f\"Для тестирования: {X_test.shape[0]} пациентов\")"
   ]
  },
  {
   "cell_type": "code",
   "execution_count": 7,
   "id": "10e74404-c347-499b-aa78-72a70a948ff8",
   "metadata": {},
   "outputs": [
    {
     "name": "stdout",
     "output_type": "stream",
     "text": [
      "В тестовой выборке:\n",
      "  malignant: 43 случаев\n",
      "  benign: 71 случаев\n"
     ]
    }
   ],
   "source": [
    "# Проверим распределение диагнозов в тестовой выборке\n",
    "unique_test, counts_test = np.unique(y_test, return_counts=True)\n",
    "print(\"В тестовой выборке:\")\n",
    "for i, (class_val, count) in enumerate(zip(unique_test, counts_test)):\n",
    "    class_name = cancer_data.target_names[i]\n",
    "    print(f\"  {class_name}: {count} случаев\")"
   ]
  },
  {
   "cell_type": "markdown",
   "id": "b8279bf0-8a24-4184-bbec-e6d88cad415e",
   "metadata": {},
   "source": [
    "### Что происходит:\n",
    "\n",
    "#### Мы делим наши данные на две части\n",
    "#### Одну часть покажем модели для обучения (как учебник)\n",
    "#### Другую часть спрячем и будем использовать для проверки (как экзамен)\n",
    "#### Это важно - модель не должна \"видеть\" правильные ответы на экзамене!"
   ]
  },
  {
   "cell_type": "markdown",
   "id": "34d2622b-8cf3-4fc9-be83-2f151778b80c",
   "metadata": {},
   "source": [
    "## Шаг 5: Обучаем модель"
   ]
  },
  {
   "cell_type": "code",
   "execution_count": 8,
   "id": "fc11d58d-3c28-4485-ab2e-23cda08154bb",
   "metadata": {},
   "outputs": [
    {
     "name": "stdout",
     "output_type": "stream",
     "text": [
      "🤖 Начинаем обучение модели...\n"
     ]
    }
   ],
   "source": [
    "# Создаем модель машинного обучения\n",
    "# RandomForest - это алгоритм, который создает много \"деревьев решений\"\n",
    "model = RandomForestClassifier(\n",
    "    n_estimators=100,    # Количество деревьев в \"лесу\"\n",
    "    random_state=42      # Для повторяемости результатов\n",
    ")\n",
    "\n",
    "print(\"🤖 Начинаем обучение модели...\")"
   ]
  },
  {
   "cell_type": "code",
   "execution_count": 9,
   "id": "79c43b15-6fbf-435e-968b-baed06291d45",
   "metadata": {},
   "outputs": [
    {
     "name": "stdout",
     "output_type": "stream",
     "text": [
      "✅ Модель обучена!\n",
      "Теперь модель 'знает', как признаки связаны с диагнозом\n"
     ]
    }
   ],
   "source": [
    "# Обучаем модель на тренировочных данных\n",
    "# Модель изучает связь между признаками (X_train) и диагнозами (y_train)\n",
    "# Метод .fit() — это главный шаг обучения (тренировки) в машинном обучении.\n",
    "model.fit(X_train, y_train)\n",
    "\n",
    "print(\"✅ Модель обучена!\")\n",
    "print(\"Теперь модель 'знает', как признаки связаны с диагнозом\")"
   ]
  },
  {
   "cell_type": "markdown",
   "id": "78a41828-78bb-417d-874d-d6c8990b1f9f",
   "metadata": {},
   "source": [
    "### Что происходит при обучении:\n",
    "\n",
    "#### Модель смотрит на признаки пациента (размер клеток, их форма и т.д.)\n",
    "#### Смотрит на правильный диагноз для этого пациента\n",
    "#### Ищет закономерности: \"Если клетки такого размера И такой формы, то вероятно это злокачественная опухоль\"\n",
    "#### Повторяет это для всех пациентов из обучающей выборки\n",
    "#### Создает \"правила\" для постановки диагноза"
   ]
  },
  {
   "cell_type": "markdown",
   "id": "6613f61f-6411-4012-93ec-35002dcad292",
   "metadata": {},
   "source": [
    "## Шаг 6: Делаем предсказания"
   ]
  },
  {
   "cell_type": "code",
   "execution_count": 10,
   "id": "677fcbe8-1964-4eb3-bfed-35c666d2c87b",
   "metadata": {},
   "outputs": [
    {
     "name": "stdout",
     "output_type": "stream",
     "text": [
      "🔮 Модель сделала предсказания для тестовых пациентов\n",
      "Количество данных: 114\n",
      "Количество предсказаний: 114\n",
      "\n",
      "Первые 10 предсказаний:\n",
      "Правильный диагноз → Предсказание модели\n",
      "benign → benign ✅\n",
      "malignant → malignant ✅\n",
      "malignant → malignant ✅\n",
      "benign → benign ✅\n",
      "benign → benign ✅\n",
      "malignant → malignant ✅\n",
      "malignant → malignant ✅\n",
      "malignant → malignant ✅\n",
      "benign → malignant ❌\n",
      "benign → benign ✅\n"
     ]
    }
   ],
   "source": [
    "# Теперь просим модель поставить диагноз пациентам из тестовой выборки\n",
    "# В тестовой выборке (X_test) содержатся признаки тех пациентов, которых модель раньше не \"видела\".\n",
    "# Модель НЕ знает правильные ответы для этих пациентов\n",
    "y_pred = model.predict(X_test)\n",
    "\n",
    "print(\"🔮 Модель сделала предсказания для тестовых пациентов\")\n",
    "# len(y_pred) должен совпадать с количеством строк в X_test\n",
    "print(f\"Количество данных: {len(X_test)}\")\n",
    "print(f\"Количество предсказаний: {len(y_pred)}\")\n",
    "\n",
    "# Посмотрим на первые 10 предсказаний\n",
    "print(\"\\nПервые 10 предсказаний:\")\n",
    "print(\"Правильный диагноз → Предсказание модели\")\n",
    "\n",
    "# Цикл по первым 10 пациентам из тестовой выборки\n",
    "for i in range(10):\n",
    "    # Берём правильное название диагноза (0 или 1 заменяем на \"malignant\"/\"benign\")\n",
    "    true_name = cancer_data.target_names[y_test[i]]\n",
    "    # Берём предсказанное моделью название диагноза\n",
    "    pred_name = cancer_data.target_names[y_pred[i]]\n",
    "    # Сравниваем предсказание с правильным ответом.\n",
    "    status = \"✅\" if y_test[i] == y_pred[i] else \"❌\"\n",
    "    print(f\"{true_name} → {pred_name} {status}\")"
   ]
  },
  {
   "cell_type": "markdown",
   "id": "82d87d3c-f996-4ec3-bb82-d3e42cf8a186",
   "metadata": {},
   "source": [
    "### Что происходит:\n",
    "\n",
    "#### Модель смотрит на данные пациентов, которых она НЕ видела при обучении\n",
    "#### Применяет выученные правила и делает предсказания\n",
    "#### Мы сравниваем предсказания с правильными ответами"
   ]
  },
  {
   "cell_type": "markdown",
   "id": "59a77a25-abdb-4f6f-b170-e77361f10cfb",
   "metadata": {},
   "source": [
    "## Шаг 7: Оцениваем качество модели"
   ]
  },
  {
   "cell_type": "code",
   "execution_count": 11,
   "id": "dcd2f5cf-9d7d-4b3c-9a01-5b219d40342f",
   "metadata": {},
   "outputs": [
    {
     "name": "stdout",
     "output_type": "stream",
     "text": [
      "📊 РЕЗУЛЬТАТЫ ТЕСТИРОВАНИЯ МОДЕЛИ:\n",
      "==================================================\n",
      "Accuracy (Точность):  0.965 (96.5%)\n",
      "Precision (Точность положительных): 0.959 (95.9%)\n",
      "Recall (Полнота):     0.986 (98.6%)\n",
      "F1-Score (Общая оценка): 0.972 (97.2%)\n",
      "\n",
      "📝 Что это означает:\n",
      "• Из 114 пациентов модель правильно диагностировала 110\n",
      "• Это составляет 96.5% точности\n"
     ]
    }
   ],
   "source": [
    "# Считаем основные метрики качества\n",
    "accuracy = accuracy_score(y_test, y_pred)      # Точность - доля правильных ответов\n",
    "precision = precision_score(y_test, y_pred)    # Precision - из предсказанных \"доброкачественных\", сколько действительно доброкачественных\n",
    "recall = recall_score(y_test, y_pred)          # Recall - из всех доброкачественных, сколько мы нашли\n",
    "f1 = f1_score(y_test, y_pred)                  # F1 - среднее между precision и recall\n",
    "\n",
    "print(\"📊 РЕЗУЛЬТАТЫ ТЕСТИРОВАНИЯ МОДЕЛИ:\")\n",
    "print(\"=\"*50)\n",
    "print(f\"Accuracy (Точность):  {accuracy:.3f} ({accuracy*100:.1f}%)\")\n",
    "print(f\"Precision (Точность положительных): {precision:.3f} ({precision*100:.1f}%)\")\n",
    "print(f\"Recall (Полнота):     {recall:.3f} ({recall*100:.1f}%)\")\n",
    "print(f\"F1-Score (Общая оценка): {f1:.3f} ({f1*100:.1f}%)\")\n",
    "\n",
    "# Объясняем, что означают эти цифры\n",
    "print(\"\\n📝 Что это означает:\")\n",
    "print(f\"• Из {len(y_test)} пациентов модель правильно диагностировала {int(accuracy * len(y_test))}\")\n",
    "print(f\"• Это составляет {accuracy*100:.1f}% точности\")"
   ]
  },
  {
   "cell_type": "markdown",
   "id": "81a93ff2-1711-40aa-b414-2de8e821ea20",
   "metadata": {},
   "source": [
    "## Шаг 7: Детальный анализ ошибок"
   ]
  },
  {
   "cell_type": "code",
   "execution_count": 12,
   "id": "6c2162fc-7a95-4167-b5c1-919641ee9c1f",
   "metadata": {},
   "outputs": [],
   "source": [
    "from sklearn.metrics import confusion_matrix"
   ]
  },
  {
   "cell_type": "code",
   "execution_count": 13,
   "id": "d1e1d5ab-9b2f-4831-af2b-90ad67a32f7d",
   "metadata": {},
   "outputs": [
    {
     "name": "stdout",
     "output_type": "stream",
     "text": [
      "\n",
      "🔍 ДЕТАЛЬНЫЙ АНАЛИЗ ОШИБОК:\n",
      "========================================\n"
     ]
    }
   ],
   "source": [
    "# Создаем матрицу ошибок - таблицу, показывающую где модель ошиблась\n",
    "cm = confusion_matrix(y_test, y_pred)\n",
    "\n",
    "print(\"\\n🔍 ДЕТАЛЬНЫЙ АНАЛИЗ ОШИБОК:\")\n",
    "print(\"=\"*40)"
   ]
  },
  {
   "cell_type": "code",
   "execution_count": 15,
   "id": "b9150748-d6bc-41c6-b408-e7a57d01af18",
   "metadata": {},
   "outputs": [
    {
     "name": "stdout",
     "output_type": "stream",
     "text": [
      "Результаты по типам:\n",
      "✅ Правильно определили злокачественные: 40\n",
      "✅ Правильно определили доброкачественные: 70\n",
      "❌ Ложная тревога (сказали 'доброкачественная', а была 'злокачественная'): 3\n",
      "❌ Пропустили болезнь (сказали 'злокачественная', а была 'доброкачественная'): 1\n",
      "\n",
      "Всего ошибок: 4 из 114 (3.5%)\n",
      "\n",
      "⚕️ В медицинской диагностике:\n",
      "ОПАСНО: 3 раз пропустили злокачественную опухоль!\n",
      "   (Пациент думает, что здоров, а болезнь прогрессирует)\n",
      "СТРЕСС: 1 раз ложно диагностировали злокачественную опухоль\n",
      "   (Пациент зря переживает, нужны дополнительные анализы)\n"
     ]
    }
   ],
   "source": [
    "# Объясняем каждую ячейку матрицы ошибок\n",
    "tn, fp, fn, tp = cm.ravel()  # True Negative, False Positive, False Negative, True Positive\n",
    "\n",
    "print(\"Результаты по типам:\")\n",
    "print(f\"✅ Правильно определили злокачественные: {tn}\")\n",
    "print(f\"✅ Правильно определили доброкачественные: {tp}\")\n",
    "print(f\"❌ Ложная тревога (сказали 'доброкачественная', а была 'злокачественная'): {fp}\")\n",
    "print(f\"❌ Пропустили болезнь (сказали 'злокачественная', а была 'доброкачественная'): {fn}\")\n",
    "\n",
    "print(f\"\\nВсего ошибок: {fp + fn} из {len(y_test)} ({(fp + fn)/len(y_test)*100:.1f}%)\")\n",
    "\n",
    "print(\"\\n⚕️ В медицинской диагностике:\")\n",
    "if fn > 0:\n",
    "    print(f\"ОПАСНО: {fp} раз пропустили злокачественную опухоль!\")\n",
    "    print(\"   (Пациент думает, что здоров, а болезнь прогрессирует)\")\n",
    "\n",
    "if fp > 0:\n",
    "    print(f\"СТРЕСС: {fn} раз ложно диагностировали злокачественную опухоль\")\n",
    "    print(\"   (Пациент зря переживает, нужны дополнительные анализы)\")"
   ]
  },
  {
   "cell_type": "code",
   "execution_count": null,
   "id": "1cecdd7e-5a2e-46eb-83d9-3b4e51623a7c",
   "metadata": {},
   "outputs": [],
   "source": []
  }
 ],
 "metadata": {
  "kernelspec": {
   "display_name": "Python 3 (ipykernel)",
   "language": "python",
   "name": "python3"
  },
  "language_info": {
   "codemirror_mode": {
    "name": "ipython",
    "version": 3
   },
   "file_extension": ".py",
   "mimetype": "text/x-python",
   "name": "python",
   "nbconvert_exporter": "python",
   "pygments_lexer": "ipython3",
   "version": "3.12.3"
  }
 },
 "nbformat": 4,
 "nbformat_minor": 5
}
