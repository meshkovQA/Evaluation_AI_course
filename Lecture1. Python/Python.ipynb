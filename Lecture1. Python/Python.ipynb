{
 "cells": [
  {
   "cell_type": "markdown",
   "id": "d1d5aef6-107a-465a-8312-bb8ff2ac9674",
   "metadata": {},
   "source": [
    "# Глава 1. Основы Python для работы с данными"
   ]
  },
  {
   "cell_type": "markdown",
   "id": "523f57e1-ea4d-49b3-af7a-d99e14ac6dc9",
   "metadata": {},
   "source": [
    "## Переменные и типы данных в контексте AI"
   ]
  },
  {
   "cell_type": "markdown",
   "id": "ebe8d5f8-6ae5-4095-9893-a3a6b73cbbd7",
   "metadata": {},
   "source": [
    "**Числа (числовые типы данных)** являются основой любых вычислений в машинном обучении. Целые числа (int) мы используем для подсчета правильных и неправильных предсказаний модели, а числа с плавающей точкой (float) — для вычисления метрик качества. Деление целых чисел в Python автоматически дает нам число с плавающей точкой, что удобно для вычисления долей и процентов."
   ]
  },
  {
   "cell_type": "code",
   "execution_count": null,
   "id": "d0451a1d-fdf7-4aeb-a975-00954f127745",
   "metadata": {},
   "outputs": [],
   "source": [
    "# Подсчет правильных предсказаний классификатора\n",
    "correct_predictions = 85  # int - целое число\n",
    "total_predictions = 100   # int - целое число\n",
    "\n",
    "# Вычисление точности модели\n",
    "accuracy = correct_predictions / total_predictions  # float - число с плавающей точкой\n",
    "print(f\"Точность модели: {accuracy}\")  # Результат: 0.85"
   ]
  },
  {
   "cell_type": "markdown",
   "id": "4823cb92-bfb0-4795-84c4-32dbde42470a",
   "metadata": {},
   "source": [
    "**Строки (str)** критически важны при работе с текстовыми данными и оценкой языковых моделей. В задачах обработки естественного языка мы постоянно работаем с текстом: сравниваем ответы модели с эталонными, подсчитываем длину генерируемого текста, ищем определенные фразы."
   ]
  },
  {
   "cell_type": "markdown",
   "id": "98e43bf7-ad08-4660-9cde-41e355077aa7",
   "metadata": {},
   "source": [
    "Здесь мы используем метод **.lower()** для приведения строк к нижнему регистру, что делает сравнение нечувствительным к регистру. Оператор in проверяет, содержится ли одна строка в другой. Функция **len()** возвращает длину строки — полезная метрика при оценке многословности ответов модели."
   ]
  },
  {
   "cell_type": "code",
   "execution_count": null,
   "id": "a85c4dfc-6756-4a4d-acd6-6a54bf014d3a",
   "metadata": {},
   "outputs": [],
   "source": [
    "# Оценка ответа языковой модели\n",
    "model_answer = \"Столица России - Москва\"\n",
    "correct_answer = \"Москва\"\n",
    "\n",
    "# Проверяем, содержит ли ответ модели правильную информацию\n",
    "is_correct = correct_answer.lower() in model_answer.lower()\n",
    "print(f\"Ответ содержит правильную информацию: {is_correct}\")\n",
    "\n",
    "# Измеряем длину ответа модели\n",
    "answer_length = len(model_answer)\n",
    "print(f\"Длина ответа: {answer_length} символов\")"
   ]
  },
  {
   "cell_type": "markdown",
   "id": "9cd19d39-6396-4d55-b434-772716c25f8b",
   "metadata": {},
   "source": [
    "**Соединение строк и форматирование**"
   ]
  },
  {
   "cell_type": "code",
   "execution_count": null,
   "id": "767b7341-7c06-4b1b-9023-dffa156a00fd",
   "metadata": {},
   "outputs": [],
   "source": [
    "print('Hello ' + 'Alex') # First option\n",
    "\n",
    "hello = 'Hello'\n",
    "name = 'Alex'\n",
    "\n",
    "print(hello + ' ' + name)  # Second option\n",
    "\n",
    "hello = 'Hello'\n",
    "name = 'Alex'\n",
    "\n",
    "text = f\"{hello} {name}\" # Third option\n",
    "\n",
    "print(text)"
   ]
  },
  {
   "cell_type": "code",
   "execution_count": null,
   "id": "cb1d540b-9dca-4893-80ac-aeba07068e3e",
   "metadata": {},
   "outputs": [],
   "source": [
    "city = 'Moscow'\n",
    "name = 'Alex'\n",
    "age = 35\n",
    "\n",
    "text = f\"My name is {name}. I'm {age} years old and from {city}\"\n",
    "\n",
    "print(text)  # My name is Alex. I'm 35 years old and from Budva"
   ]
  },
  {
   "cell_type": "markdown",
   "id": "78c33bd5-df1a-4ff6-b05a-995224ffebd4",
   "metadata": {},
   "source": [
    "**Логический тип (bool)** представляет истинность или ложность утверждения. В контексте оценки AI это фундаментальный тип для определения правильности предсказаний. Логические операторы and, or, not позволяют создавать сложные условия для анализа работы модели. Это особенно важно при вычислении метрик точности (precision) и полноты (recall), где нужно различать разные типы ошибок."
   ]
  },
  {
   "cell_type": "code",
   "execution_count": null,
   "id": "585a8858-d462-47fb-93e6-9f8d6da28440",
   "metadata": {},
   "outputs": [],
   "source": [
    "# Классификация изображений: кот или не кот\n",
    "predicted_class = \"кот\"\n",
    "actual_class = \"кот\"\n",
    "\n",
    "# Проверяем правильность предсказания\n",
    "prediction_is_correct = predicted_class == actual_class\n",
    "print(f\"Предсказание правильное: {prediction_is_correct}\")  # True\n",
    "\n",
    "# Подсчет ошибок первого рода (false positive)\n",
    "model_says_cat = True\n",
    "actually_is_cat = False\n",
    "false_positive = model_says_cat and not actually_is_cat\n",
    "print(f\"Ложноположительное срабатывание: {false_positive}\")  # False"
   ]
  },
  {
   "cell_type": "markdown",
   "id": "a7594fdc-e8ad-4e60-a07a-6d131bafd588",
   "metadata": {},
   "source": [
    "## Базовые классы"
   ]
  },
  {
   "cell_type": "markdown",
   "id": "da19d12e-9823-4d62-91be-af4555af4c10",
   "metadata": {},
   "source": [
    "**Списки (list)** — это упорядоченные коллекции элементов, которые играют центральную роль в обработке данных для AI. В задачах оценки мы постоянно работаем с наборами предсказаний, правильных ответов, оценок экспертов. Индексация в Python начинается с нуля, что может поначалу сбивать с толку, но быстро становится привычным. Отрицательные индексы позволяют обращаться к элементам с конца списка: -1 — это последний элемент, -2 — предпоследний."
   ]
  },
  {
   "cell_type": "code",
   "execution_count": null,
   "id": "194b5d44-a39a-4045-a572-38effc687634",
   "metadata": {},
   "outputs": [],
   "source": [
    "# Предсказания модели классификации для 10 изображений\n",
    "predictions = [1, 0, 1, 1, 0, 1, 0, 0, 1, 1]\n",
    "# Правильные метки (ground truth)\n",
    "true_labels = [1, 0, 1, 0, 0, 1, 0, 1, 1, 1]\n",
    "\n",
    "print(f\"Количество предсказаний: {len(predictions)}\")\n",
    "print(f\"Первое предсказание: {predictions[0]}\")\n",
    "print(f\"Последнее предсказание: {predictions[-1]}\")"
   ]
  },
  {
   "cell_type": "code",
   "execution_count": null,
   "id": "4901ea0f-e6ff-422b-981d-6446ebefca47",
   "metadata": {},
   "outputs": [],
   "source": [
    "predictions.append(0)  # Добавляем новое предсказание в конец списка\n",
    "true_labels.append(0)  # Добавляем соответствующую правильную метку в конец списка\n",
    "\n",
    "print(predictions)\n",
    "print(true_labels)\n",
    "\n",
    "# Объединение результатов из разных экспериментов\n",
    "experiment_1_predictions = [1, 0, 1]\n",
    "experiment_2_predictions = [0, 1, 0]\n",
    "all_predictions = experiment_1_predictions + experiment_2_predictions\n",
    "print(f\"Все предсказания: {all_predictions}\")\n",
    "\n",
    "# Извлечение части данных (slicing)\n",
    "first_half = predictions[:5]  # Первые 5 элементов\n",
    "second_half = predictions[5:]  # С 6-го элемента до конца\n",
    "print(f\"Первая половина: {first_half}\")\n",
    "print(f\"Вторая половина: {second_half}\")"
   ]
  },
  {
   "cell_type": "markdown",
   "id": "dbd16a10-d2cf-4076-a75a-84c21cfdb452",
   "metadata": {},
   "source": [
    "**Словари (dict)** представляют собой коллекции пар \"ключ-значение\" и незаменимы для хранения структурированной информации о результатах оценки. Словари позволяют хранить разнородную информацию под понятными именами. Это особенно полезно при сохранении результатов экспериментов, когда нужно связать различные метрики с их названиями."
   ]
  },
  {
   "cell_type": "code",
   "execution_count": null,
   "id": "57392652-eedb-45e8-950d-65692405e50f",
   "metadata": {},
   "outputs": [],
   "source": [
    "# Результаты оценки модели\n",
    "evaluation_results = {\n",
    "    \"accuracy\": 0.85,\n",
    "    \"precision\": 0.82,\n",
    "    \"recall\": 0.88,\n",
    "    \"f1_score\": 0.85,\n",
    "    \"total_samples\": 1000\n",
    "}\n",
    "\n",
    "print(f\"Точность модели: {evaluation_results['accuracy']}\")\n",
    "print(f\"F1-мера: {evaluation_results['f1_score']}\")\n",
    "\n",
    "# Добавление новых метрик\n",
    "evaluation_results[\"auc_roc\"] = 0.91\n",
    "evaluation_results[\"confusion_matrix\"] = [[450, 50], [100, 400]]\n",
    "\n",
    "# Проверка наличия метрики\n",
    "if \"accuracy\" in evaluation_results:\n",
    "    print(f\"Модель показала точность {evaluation_results['accuracy']*100:.2f}%\")"
   ]
  },
  {
   "cell_type": "markdown",
   "id": "400e99d6-ea33-4984-8e92-f70c4865aa17",
   "metadata": {},
   "source": [
    "Перебор элементов словаря часто необходим для вывода отчетов. Метод **.items()** возвращает пары ключ-значение, которые можно перебрать в цикле. Функция **isinstance()** проверяет тип данных, что позволяет по-разному форматировать вывод для чисел и других типов данных."
   ]
  },
  {
   "cell_type": "code",
   "execution_count": null,
   "id": "e78b785b-b7d6-4911-83fe-3e4bd10f2856",
   "metadata": {},
   "outputs": [],
   "source": [
    "# Вывод всех метрик\n",
    "print(\"Результаты оценки модели:\")\n",
    "for metric_name, metric_value in evaluation_results.items():\n",
    "    if isinstance(metric_value, float):\n",
    "        print(f\"{metric_name}: {metric_value:.3f}\")\n",
    "    else:\n",
    "        print(f\"{metric_name}: {metric_value}\")"
   ]
  },
  {
   "cell_type": "code",
   "execution_count": null,
   "id": "b1afba14-dc2c-4502-9355-a0b8ef8e4954",
   "metadata": {},
   "outputs": [],
   "source": [
    "print(evaluation_results.get('accuracy'))"
   ]
  },
  {
   "cell_type": "code",
   "execution_count": null,
   "id": "0a7aa9cc-e700-4642-b59b-a1b676fdb19d",
   "metadata": {},
   "outputs": [],
   "source": [
    "print(evaluation_results.values())"
   ]
  },
  {
   "cell_type": "code",
   "execution_count": null,
   "id": "148d350c-c348-42cf-ba5b-74a5dabf8d9b",
   "metadata": {},
   "outputs": [],
   "source": [
    "print(evaluation_results.keys())"
   ]
  },
  {
   "cell_type": "markdown",
   "id": "1e4da10a-6ef1-4b02-9c01-8d20c7ffb176",
   "metadata": {},
   "source": [
    "**Множества (set)** представляют собой коллекции уникальных элементов без определенного порядка. В задачах оценки AI они особенно полезны для работы с уникальными значениями, удаления дубликатов и выполнения операций над наборами данных. Множества автоматически исключают повторяющиеся элементы, что делает их идеальными для анализа уникальных категорий, классов или идентификаторов в данных."
   ]
  },
  {
   "cell_type": "code",
   "execution_count": null,
   "id": "e6edb687-0a0b-43be-ba9c-b5b1b3fffbd7",
   "metadata": {},
   "outputs": [],
   "source": [
    "# Создание множеств разными способами\n",
    "predicted_classes = {1, 0, 1, 1, 0, 1}  # Дубликаты автоматически удаляются\n",
    "print(f\"Уникальные предсказанные классы: {predicted_classes}\")  # {0, 1}\n",
    "\n",
    "# Создание множества из списка (удаление дубликатов)\n",
    "model_predictions = [1, 1, 0, 1, 0, 0, 1, 1, 0]\n",
    "unique_predictions = set(model_predictions)\n",
    "print(f\"Уникальные значения: {unique_predictions}\")  # {0, 1}"
   ]
  },
  {
   "cell_type": "code",
   "execution_count": null,
   "id": "13bca558-bbdc-4910-b089-83c62099fc4e",
   "metadata": {
    "scrolled": true
   },
   "outputs": [],
   "source": [
    "# Анализ моделей, которые прошли разные этапы оценки\n",
    "models_tested = {\"GPT-4\", \"BERT\", \"T5\", \"RoBERTa\"}\n",
    "models_in_production = {\"GPT-4\", \"BERT\"}\n",
    "\n",
    "# Добавление новой модели\n",
    "models_tested.add(\"Claude\")\n",
    "print(f\"Протестированные модели: {models_tested}\")\n",
    "\n",
    "# Удаление модели\n",
    "models_tested.remove(\"T5\")  # Вызовет ошибку, если элемента нет\n",
    "# models_tested.discard(\"T5\")  # Безопасное удаление - не вызовет ошибку\n",
    "print(f\"Новое множество моделей: {models_tested}\")\n",
    "\n",
    "# Проверка принадлежности (очень быстрая операция)\n",
    "if \"GPT-4\" in models_in_production:\n",
    "    print(\"GPT-4 используется в продакшене\")\n",
    "\n",
    "# Проверка подмножества\n",
    "if models_in_production.issubset(models_tested):\n",
    "    print(\"Все продакшен-модели были протестированы\")\n",
    "\n",
    "# Очистка множества\n",
    "test_set = {\"model1\", \"model2\"}\n",
    "test_set.clear()\n",
    "print(f\"После очистки: {test_set}\")  # set()"
   ]
  },
  {
   "cell_type": "markdown",
   "id": "5d5c8e14-65ed-4777-969e-616ccc2a7e2b",
   "metadata": {},
   "source": [
    "**Кортежи (tuple)** — это упорядоченные коллекции элементов, которые нельзя изменять после создания. В задачах оценки AI они особенно полезны для хранения конфигураций экспериментов, координат данных, результатов измерений и других данных, которые должны оставаться неизменными. Кортежи гарантируют целостность данных и часто используются для возврата нескольких значений из функций."
   ]
  },
  {
   "cell_type": "code",
   "execution_count": null,
   "id": "93df1ed1-f32d-4c65-aa84-c294f6c0c3e2",
   "metadata": {},
   "outputs": [],
   "source": [
    "# Создание кортежей\n",
    "# Результат эксперимента: (название_модели, точность, время_обучения)\n",
    "experiment_result = (\"GPT-4\", 0.92, 180)\n",
    "print(f\"Результат эксперимента: {experiment_result}\")\n",
    "\n",
    "# Координаты точки в пространстве признаков\n",
    "data_point = (0.8, 0.65, 0.73, 0.91)  # 4 признака\n",
    "print(f\"Точка данных: {data_point}\")\n",
    "\n",
    "# Создание из других коллекций\n",
    "scores_list = [0.85, 0.90, 0.78]\n",
    "scores_tuple = tuple(scores_list)\n",
    "print(f\"Оценки как кортеж: {scores_tuple}\")\n",
    "\n",
    "# Создание пустого кортежа и с одним элементом\n",
    "empty_tuple = ()\n",
    "single_element = (42,)  # Запятая обязательна для одного элемента!\n",
    "print(f\"Пустой кортеж: {empty_tuple}\")\n",
    "print(f\"Один элемент: {single_element}\")\n",
    "\n",
    "# Изменение в кортеже\n",
    "new_element = list(single_element)\n",
    "new_element.append(\"AI\")\n",
    "few_elements = tuple(new_element)\n",
    "\n",
    "print (f\"Новый кортеж с двумя значениями {few_elements}\")"
   ]
  },
  {
   "cell_type": "markdown",
   "id": "ac0e5cd6-75e2-407e-8088-4660868b1d84",
   "metadata": {},
   "source": [
    "# Глава 2. Циклы и условия для анализа данных"
   ]
  },
  {
   "cell_type": "markdown",
   "id": "1225d42b-bf9d-41aa-954e-da486f818035",
   "metadata": {},
   "source": [
    "## Условные конструкции в оценке моделей"
   ]
  },
  {
   "cell_type": "markdown",
   "id": "38749c5e-0252-4514-9264-0aa1dab68591",
   "metadata": {},
   "source": [
    "**Условные конструкции** позволяют программе принимать решения на основе данных. В задачах оценки AI мы постоянно сравниваем результаты с пороговыми значениями, классифицируем типы ошибок, определяем качество работы модели. **Конструкция if-elif-else** позволяет создавать разветвленную логику принятия решений. В данном примере мы категоризируем качество модели на основе ее точности, что является типичной задачей при анализе результатов экспериментов."
   ]
  },
  {
   "cell_type": "code",
   "execution_count": null,
   "id": "5ad8aded-a9e9-4c69-b922-f0549ec635ff",
   "metadata": {},
   "outputs": [],
   "source": [
    "# Анализ производительности модели\n",
    "accuracy = 0.73\n",
    "\n",
    "if accuracy >= 0.9:\n",
    "    model_quality = \"отличное\"\n",
    "    recommendation = \"Модель готова к продакшену\"\n",
    "elif accuracy >= 0.8:\n",
    "    model_quality = \"хорошее\"\n",
    "    recommendation = \"Модель может использоваться с осторожностью\"\n",
    "elif accuracy >= 0.7:\n",
    "    model_quality = \"удовлетворительное\"\n",
    "    recommendation = \"Модель требует доработки\"\n",
    "else:\n",
    "    model_quality = \"неудовлетворительное\"\n",
    "    recommendation = \"Модель непригодна для использования\"\n",
    "\n",
    "print(f\"Качество модели: {model_quality}\")\n",
    "print(f\"Рекомендация: {recommendation}\")"
   ]
  },
  {
   "cell_type": "code",
   "execution_count": null,
   "id": "c348cb5e-9ead-4c7e-8b86-0db65dbf3e86",
   "metadata": {},
   "outputs": [],
   "source": [
    "# Анализ конкретного предсказания\n",
    "predicted_class = \"спам\"\n",
    "actual_class = \"не спам\"\n",
    "\n",
    "if predicted_class == actual_class:\n",
    "    print(\"Правильное предсказание\")\n",
    "    error_type = None\n",
    "elif predicted_class == \"спам\" and actual_class == \"не спам\":\n",
    "    print(\"Ложное срабатывание (False Positive)\")\n",
    "    error_type = \"FP\"\n",
    "elif predicted_class == \"не спам\" and actual_class == \"спам\":\n",
    "    print(\"Пропуск цели (False Negative)\")\n",
    "    error_type = \"FN\"\n",
    "\n",
    "# Оценка критичности ошибки\n",
    "if error_type == \"FP\":\n",
    "    print(\"Критичность: низкая - письмо попадет в спам\")\n",
    "elif error_type == \"FN\":\n",
    "    print(\"Критичность: высокая - спам останется в почте\")"
   ]
  },
  {
   "cell_type": "markdown",
   "id": "a5df3e9b-495d-44be-a46d-cd6e5a034f70",
   "metadata": {},
   "source": [
    "## Циклы для обработки больших объемов данных"
   ]
  },
  {
   "cell_type": "markdown",
   "id": "1b45e779-f1cb-4219-b4cc-cedd1ad70cbe",
   "metadata": {},
   "source": [
    "**Цикл for** — основной инструмент для обработки последовательностей данных в задачах оценки AI. Функция range(len(predictions))** создает последовательность индексов от 0 до длины списка минус 1. Это позволяет одновременно работать с элементами нескольких списков, используя один и тот же индекс."
   ]
  },
  {
   "cell_type": "code",
   "execution_count": null,
   "id": "02d19b62-f624-4097-b935-67cc7c72e8c4",
   "metadata": {},
   "outputs": [],
   "source": [
    "# Вычисление точности модели \"вручную\"\n",
    "predictions = [1, 0, 1, 1, 0, 1, 0, 0, 1, 1]\n",
    "true_labels = [1, 0, 1, 0, 0, 1, 0, 1, 1, 1]\n",
    "\n",
    "correct_count = 0\n",
    "total_count = 0\n",
    "\n",
    "for i in range(len(predictions)):\n",
    "    total_count += 1\n",
    "    if predictions[i] == true_labels[i]:\n",
    "        correct_count += 1\n",
    "    \n",
    "    # Подробный анализ каждого предсказания\n",
    "    prediction = predictions[i]\n",
    "    true_label = true_labels[i]\n",
    "    is_correct = prediction == true_label\n",
    "    \n",
    "    print(f\"Образец {i+1}: предсказание={prediction}, \"\n",
    "          f\"истина={true_label}, правильно={is_correct}\")\n",
    "\n",
    "accuracy = correct_count / total_count\n",
    "print(f\"\\nИтоговая точность: {accuracy:.3f}\")"
   ]
  },
  {
   "cell_type": "markdown",
   "id": "cb6747e0-c5bf-4cac-b2c0-a7f5c79b894d",
   "metadata": {},
   "source": [
    "**Функция zip()** объединяет элементы нескольких списков попарно, что делает код более читаемым и менее подверженным ошибкам."
   ]
  },
  {
   "cell_type": "code",
   "execution_count": null,
   "id": "b802ab8f-a099-4871-9ada-adf5fb7c65ac",
   "metadata": {},
   "outputs": [],
   "source": [
    "fruits = ['apple', 'banana', 'lime']\n",
    "\n",
    "quant = [100, 50, 70]\n",
    "\n",
    "all_fruit_zip = zip(fruits, quant) # Объединение последовательностей \n",
    "\n",
    "all_fruit_dict = dict(all_fruit_zip) # Конвертация с словарь\n",
    "\n",
    "all_fruit_zip = zip(fruits, quant) # Объединение последовательностей \n",
    "\n",
    "all_fruit_list = list(all_fruit_zip) # Конвертация с список\n",
    "\n",
    "print(f\"Объединенные списки Dict {all_fruit_dict}\")\n",
    "print(f\"Объединенные списки List (в формате кортежей Tuple) {all_fruit_list}\")"
   ]
  },
  {
   "cell_type": "code",
   "execution_count": null,
   "id": "5accfc11-9e35-4723-afad-d155881aa396",
   "metadata": {},
   "outputs": [],
   "source": [
    "correct_count = 0\n",
    "\n",
    "for prediction, true_label in zip(predictions, true_labels):\n",
    "    if prediction == true_label:\n",
    "        correct_count += 1\n",
    "\n",
    "accuracy = correct_count / len(predictions)\n",
    "print(f\"Точность: {accuracy:.3f}\")"
   ]
  },
  {
   "cell_type": "markdown",
   "id": "6643825b-db8c-4d72-af85-afd11e6945aa",
   "metadata": {},
   "source": [
    "Функция **enumerate()** добавляет автоматический счетчик к любому итерируемому объекту (список, строка, результат zip() и т.д.). Она возвращает пары: (индекс, элемент)."
   ]
  },
  {
   "cell_type": "code",
   "execution_count": null,
   "id": "137ed8cd-491d-4583-b01f-b2bcedb9e46a",
   "metadata": {},
   "outputs": [],
   "source": [
    "fruits = [\"яблоко\", \"банан\", \"апельсин\"]\n",
    "\n",
    "# Обычный цикл\n",
    "for fruit in fruits:\n",
    "    print(fruit)\n",
    "\n",
    "# С enumerate\n",
    "for i, fruit in enumerate(fruits):\n",
    "    print(f\"{i}: {fruit}\")"
   ]
  },
  {
   "cell_type": "code",
   "execution_count": null,
   "id": "e580bf7a-8061-428a-b317-7e0c18bfebcd",
   "metadata": {},
   "outputs": [],
   "source": [
    "# Инициализируем счетчики для разных типов результатов\n",
    "true_positives = 0   # Правильно предсказали \"да\"\n",
    "false_positives = 0  # Неправильно предсказали \"да\" (а было \"нет\")\n",
    "true_negatives = 0   # Правильно предсказали \"нет\"\n",
    "false_negatives = 0  # Неправильно предсказали \"нет\" (а было \"да\")\n",
    "\n",
    "# zip() берет элементы из двух списков попарно\n",
    "# Это как застегивание молнии (zipper) - соединяет элементы по парам\n",
    "\n",
    "# Теперь перебираем эти пары\n",
    "print(\"Пошаговый разбор каждой пары:\")\n",
    "for i, (prediction, true_label) in enumerate(zip(predictions, true_labels)):\n",
    "    print(f\"Шаг {i+1}: prediction={prediction}, true_label={true_label}\")\n",
    "    \n",
    "    # Анализируем каждую пару\n",
    "    if prediction == 1 and true_label == 1:\n",
    "        true_positives += 1\n",
    "        print(\"  → TRUE POSITIVE: модель сказала 'да' и это правильно\")\n",
    "    elif prediction == 1 and true_label == 0:\n",
    "        false_positives += 1\n",
    "        print(\"  → FALSE POSITIVE: модель сказала 'да', но правильно было 'нет'\")\n",
    "    elif prediction == 0 and true_label == 0:\n",
    "        true_negatives += 1\n",
    "        print(\"  → TRUE NEGATIVE: модель сказала 'нет' и это правильно\")\n",
    "    elif prediction == 0 and true_label == 1:\n",
    "        false_negatives += 1\n",
    "        print(\"  → FALSE NEGATIVE: модель сказала 'нет', но правильно было 'да'\")\n",
    "    print()\n",
    "\n",
    "# Вычисление дополнительных метрик\n",
    "if true_positives + false_positives > 0:\n",
    "    precision = true_positives / (true_positives + false_positives)\n",
    "    print(f\"Precision (точность): {precision:.3f}\")\n",
    "\n",
    "if true_positives + false_negatives > 0:\n",
    "    recall = true_positives / (true_positives + false_negatives)\n",
    "    print(f\"Recall (полнота): {recall:.3f}\")"
   ]
  },
  {
   "cell_type": "markdown",
   "id": "18651e78-fac2-4515-b9c7-47b3b7e6c883",
   "metadata": {},
   "source": [
    "**Цикл while** полезен в ситуациях, когда нужно продолжать процесс до достижения определенного условия.Конструкция break позволяет принудительно завершить цикл, что критически важно для предотвращения бесконечных циклов."
   ]
  },
  {
   "cell_type": "code",
   "execution_count": null,
   "id": "e6186297-61c5-47ff-946c-fff966911121",
   "metadata": {},
   "outputs": [],
   "source": [
    "# Симуляция обучения модели до достижения целевой точности\n",
    "current_accuracy = 0.60\n",
    "target_accuracy = 0.85\n",
    "epoch = 0\n",
    "learning_rate = 0.01\n",
    "\n",
    "print(\"Начинаем обучение модели...\")\n",
    "\n",
    "while current_accuracy < target_accuracy:\n",
    "    epoch += 1\n",
    "    \n",
    "    # Симуляция улучшения точности (в реальности это сложный процесс)\n",
    "    improvement = learning_rate * (target_accuracy - current_accuracy) * 0.3\n",
    "    current_accuracy += improvement\n",
    "    \n",
    "    print(f\"Эпоха {epoch}: точность = {current_accuracy:.3f}\")\n",
    "    \n",
    "    # Защита от бесконечного цикла\n",
    "    if epoch > 100:\n",
    "        print(\"Достигнуто максимальное количество эпох\")\n",
    "        break\n",
    "\n",
    "print(f\"Обучение завершено за {epoch} эпох\")\n",
    "print(f\"Финальная точность: {current_accuracy:.3f}\")"
   ]
  },
  {
   "cell_type": "markdown",
   "id": "a60c3149-278b-45de-89a7-60aec98fa45f",
   "metadata": {},
   "source": [
    "# Глава 3. Функции "
   ]
  },
  {
   "cell_type": "markdown",
   "id": "90e2b11a-6888-4a72-8044-1ef05366ab5f",
   "metadata": {},
   "source": [
    "## Основы создания функций"
   ]
  },
  {
   "cell_type": "markdown",
   "id": "aece9f29-4ed5-4a00-b5e5-623bb60b1a75",
   "metadata": {},
   "source": [
    "Функции позволяют разбить сложные задачи оценки на управляемые части, избежать дублирования кода и создать переиспользуемые инструменты анализа. Документация функции (docstring) в тройных кавычках объясняет назначение функции, ее параметры и возвращаемое значение. Это хорошая практика, особенно важная при работе в команде."
   ]
  },
  {
   "cell_type": "code",
   "execution_count": null,
   "id": "f1707371-a135-4cb2-b105-20c77ac89f7f",
   "metadata": {},
   "outputs": [],
   "source": [
    "# Функция для вычисления точности\n",
    "def calculate_accuracy(predictions, true_labels):\n",
    "    \"\"\"\n",
    "    Вычисляет точность модели.\n",
    "    \n",
    "    Аргументы:\n",
    "        predictions: список предсказаний модели\n",
    "        true_labels: список правильных меток\n",
    "    \n",
    "    Возвращает:\n",
    "        float: точность в диапазоне от 0 до 1\n",
    "    \"\"\"\n",
    "    if len(predictions) != len(true_labels):\n",
    "        raise ValueError(\"Количество предсказаний должно совпадать с количеством меток\")\n",
    "    \n",
    "    correct_count = 0\n",
    "    for pred, true in zip(predictions, true_labels):\n",
    "        if pred == true:\n",
    "            correct_count += 1\n",
    "    \n",
    "    return correct_count / len(predictions)\n",
    "\n",
    "# Использование функции\n",
    "model_predictions = [1, 0, 1, 1, 0]\n",
    "ground_truth = [1, 0, 0, 1, 0]\n",
    "\n",
    "accuracy = calculate_accuracy(model_predictions, ground_truth)\n",
    "print(f\"Точность модели: {accuracy:.3f}\")"
   ]
  },
  {
   "cell_type": "markdown",
   "id": "72d3caea-a811-486b-ad59-4444b3379c3d",
   "metadata": {},
   "source": [
    "## Глобальные и локальные переменные"
   ]
  },
  {
   "cell_type": "code",
   "execution_count": null,
   "id": "f3bf645f-d5f5-4d17-ad72-9a07e12ee9ce",
   "metadata": {},
   "outputs": [],
   "source": [
    "a = 5  # Глобальная переменная\n",
    "\n",
    "\n",
    "def new():\n",
    "    a = 1  # Локальная переменная\n",
    "    return a\n",
    "\n",
    "\n",
    "def new_1():\n",
    "    a = 1  \n",
    "    global b  # Объявление глобальной переменной внутри функции\n",
    "    b = 3  \n",
    "    return a + b\n",
    "\n",
    "\n",
    "new_1() # Для вывода глобальной переменной изнутри функции, функцию нужно вызвать хотя бы 1 раз\n",
    "\n",
    "\n",
    "print(a)\n",
    "print (new())"
   ]
  },
  {
   "cell_type": "markdown",
   "id": "96c84d05-5fa3-4d07-aa58-4c8c558f8723",
   "metadata": {},
   "source": [
    "## Еще пример функций"
   ]
  },
  {
   "cell_type": "code",
   "execution_count": null,
   "id": "33db9b58-3be1-4e2e-a7a1-11a15285db26",
   "metadata": {},
   "outputs": [],
   "source": []
  },
  {
   "cell_type": "code",
   "execution_count": null,
   "id": "4e36ac42-7510-4f7e-9135-b499fc789847",
   "metadata": {
    "scrolled": true
   },
   "outputs": [],
   "source": [
    "def analyze_text_response(model_response, reference_response):\n",
    "    \"\"\"\n",
    "    Анализирует ответ языковой модели в сравнении с эталонным.\n",
    "    \n",
    "    Возвращает:\n",
    "        dict: метрики качества текстового ответа\n",
    "    \"\"\"\n",
    "    # Приводим к нижнему регистру для сравнения\n",
    "    model_lower = model_response.lower()\n",
    "    reference_lower = reference_response.lower()\n",
    "    \n",
    "    print (\"========Приводим к нижнему регистру для сравнения=========\")\n",
    "    print(f\"Ответ от модели: {model_lower}\")\n",
    "    print(f\"Эталонный: {reference_lower}\")\n",
    "    \n",
    "    # Разбиваем на слова\n",
    "    model_words = model_lower.split()\n",
    "    reference_words = reference_lower.split()\n",
    "    \n",
    "    print (\"\")\n",
    "    print (\"========Разбиваем на слова=========\")\n",
    "    print(f\"Ответ от модели: {model_lower}\")\n",
    "    print(f\"Эталонный: {reference_lower}\")\n",
    "    \n",
    "    # Подсчитываем пересекающиеся слова\n",
    "    model_words_set = set(model_words)\n",
    "    reference_words_set = set(reference_words)\n",
    "    common_words = model_words_set.intersection(reference_words_set)\n",
    "\n",
    "    print (\"\")\n",
    "    print (\"========Подсчитываем пересекающиеся слова=========\")\n",
    "    print(f\"Ответ от модели: {model_words_set}\")\n",
    "    print(f\"Эталонный: {reference_words_set}\")\n",
    "    print(f\"Общие слова: {common_words}\")\n",
    "    \n",
    "    # Вычисляем метрики\n",
    "    \"\"\"\n",
    "    Метод .strip() удаляет пробелы и другие \"невидимые\" символы (пробелы, табуляции, переводы строки) с начала и конца строки. \n",
    "    Он не изменяет символы внутри строки.\n",
    "    \"\"\"\n",
    "    exact_match = model_lower.strip() == reference_lower.strip()\n",
    "    \n",
    "    return {\n",
    "\n",
    "        'exact_match': exact_match,\n",
    "        'model_answer_length': len(model_words),\n",
    "        'reference_answer_length': len(reference_words)\n",
    "    }\n",
    "\n",
    "# Пример использования\n",
    "model_answer = \"Столица России - это Москва, крупнейший город страны\"\n",
    "reference_answer = \"Москва является столицей России\"\n",
    "\n",
    "analysis = analyze_text_response(model_answer, reference_answer)\n",
    "\n",
    "print (\"\")\n",
    "print(f\"Анализ ответа модели: {analysis}\")"
   ]
  },
  {
   "cell_type": "markdown",
   "id": "0297197a-6668-463b-8aee-93bcf37b2dc3",
   "metadata": {},
   "source": [
    "# Глава 4. Работа с библиотеками"
   ]
  },
  {
   "cell_type": "markdown",
   "id": "95e0bc54-a7df-4b32-9c6c-6de4145ca173",
   "metadata": {},
   "source": [
    "**Библиотеки** — это готовые наборы функций и инструментов, которые решают типичные задачи. Вместо написания всего кода с нуля мы можем использовать проверенные и оптимизированные решения."
   ]
  },
  {
   "cell_type": "markdown",
   "id": "5786dc8f-ec23-4e37-a151-bea66e369f00",
   "metadata": {},
   "source": [
    "**Установка библиотек** через pip — стандартный способ добавления новых возможностей в Python: \n",
    "\n",
    "bash\n",
    "* Установка популярных библиотек для анализа данных\n",
    "pip install numpy\n",
    "pip install pandas  \n",
    "pip install matplotlib\n",
    "\n",
    "* Установка нескольких библиотек одновременно\n",
    "pip install numpy pandas matplotlib\n",
    "\n",
    "* Установка из файла requirements.txt\n",
    "pip install -r requirements.txt"
   ]
  },
  {
   "cell_type": "markdown",
   "id": "7a15f9c2-9b1d-4f98-a23e-498954f470ed",
   "metadata": {},
   "source": [
    "# Установка популярных библиотек для анализа данных\n",
    "pip install numpy\n",
    "pip install pandas  \n",
    "pip install matplotlib\n",
    "\n",
    "# Установка нескольких библиотек одновременно\n",
    "pip install numpy pandas matplotlib\n",
    "\n",
    "# Установка из файла requirements.txt\n",
    "pip install -r requirements.txt"
   ]
  },
  {
   "cell_type": "code",
   "execution_count": null,
   "id": "66a7924a-845c-42dc-9935-aa07525c4372",
   "metadata": {},
   "outputs": [],
   "source": [
    "# Полный импорт библиотеки\n",
    "import math\n",
    "result = math.sqrt(25)  # Нужно указывать имя библиотеки\n",
    "\n",
    "# Импорт с псевдонимом (сокращением)\n",
    "import numpy as np\n",
    "array = np.array([1, 2, 3, 4, 5])\n",
    "\n",
    "# Импорт конкретных функций\n",
    "from math import sqrt, log\n",
    "result = sqrt(25)  # Можно использовать напрямую\n",
    "\n",
    "# Импорт всех функций (не рекомендуется для больших библиотек)\n",
    "from math import *\n",
    "result = sqrt(25)"
   ]
  },
  {
   "cell_type": "code",
   "execution_count": null,
   "id": "a2860a24-6337-487d-93d2-f0572b479f81",
   "metadata": {},
   "outputs": [],
   "source": [
    "# Импорт библиотек\n",
    "import math  # Встроенная библиотека для математических операций\n",
    "\n",
    "# Использование готовых функций\n",
    "numbers = [1, 4, 9, 16, 25]\n",
    "square_roots = [math.sqrt(num) for num in numbers]\n",
    "print(f\"Квадратные корни: {square_roots}\")\n",
    "\n",
    "# Импорт конкретных функций\n",
    "from math import sqrt, log\n",
    "logarithms = [log(num) for num in numbers]\n",
    "print(f\"Натуральные логарифмы: {logarithms}\")"
   ]
  },
  {
   "cell_type": "code",
   "execution_count": null,
   "id": "a8b9ddd4-2089-4d79-8358-4470b5e53bb3",
   "metadata": {},
   "outputs": [],
   "source": [
    "import csv\n",
    "\n",
    "# Создание CSV файла с результатами экспериментов\n",
    "experiment_data = [\n",
    "    [\"experiment_id\", \"model_name\", \"accuracy\", \"training_time\"],\n",
    "    [\"exp_001\", \"Модель A\", 0.85, 120.5],\n",
    "    [\"exp_002\", \"Модель B\", 0.82, 95.3],\n",
    "    [\"exp_003\", \"Модель C\", 0.89, 180.7],\n",
    "    [\"exp_004\", \"Модель A\", 0.87, 115.2]\n",
    "]\n",
    "\n",
    "# Открываем файл для записи с важными параметрами:\n",
    "# \"w\" - режим записи (write), файл будет перезаписан\n",
    "# newline=\"\" - предотвращает лишние пустые строки в Windows\n",
    "# encoding=\"utf-8\" - поддержка русских символов\n",
    "\n",
    "with open(\"experiments.csv\", \"w\", newline=\"\", encoding=\"utf-8\") as csvfile:\n",
    "    \n",
    "    # Создаем объект writer для записи CSV данных\n",
    "    writer = csv.writer(csvfile)\n",
    "    \n",
    "    # Проходим по каждой строке данных в experiment_data\n",
    "    # experiment_data - это список списков, где каждый внутренний список = строка CSV\n",
    "    for row in experiment_data:\n",
    "        # Записываем строку в файл\n",
    "        # writer.writerow() автоматически добавляет запятые между элементами\n",
    "        writer.writerow(row)\n",
    "\n",
    "print(\"Данные сохранены в experiments.csv\")\n",
    "\n",
    "\n",
    "# ===== ЧТЕНИЕ ДАННЫХ ИЗ CSV ФАЙЛА =====\n",
    "\n",
    "# Создаем пустой список для хранения обработанных экспериментов\n",
    "\n",
    "experiments = []\n",
    "\n",
    "# Открываем тот же файл для чтения:\n",
    "# \"r\" - режим чтения (read)\n",
    "# encoding=\"utf-8\" - обязательно тот же encoding, что при записи\n",
    "with open(\"experiments.csv\", \"r\", encoding=\"utf-8\") as csvfile:\n",
    "    \n",
    "    # Создаем объект reader для чтения CSV данных\n",
    "    reader = csv.reader(csvfile)\n",
    "\n",
    "    # Извлекаем первую строку как заголовки\n",
    "    # next() получает следующий элемент из итератора (первую строку)\n",
    "    \n",
    "    header = next(reader)  # Например: [\"experiment_id\", \"model_name\", \"accuracy\", \"training_time\"]\n",
    "    print(f\"Заголовки: {header}\")\n",
    "    \n",
    "    # row - это список строк, например: [\"exp_001\", \"Модель A\", \"0.85\", \"120.5\"]\n",
    "    for row in reader:\n",
    "        # Создаем словарь dict для удобной работы с данными\n",
    "        experiment = {\n",
    "            # row[0] - первый элемент строки (ID эксперимента)\n",
    "            \"id\": row[0],\n",
    "            \n",
    "            # row[1] - второй элемент (название модели)\n",
    "            \"model\": row[1], \n",
    "            \n",
    "            # row[2] - третий элемент, преобразуем строку в число\n",
    "            # float() нужен, потому что CSV хранит все как строки\n",
    "            \"accuracy\": float(row[2]),\n",
    "            \n",
    "            # row[3] - четвертый элемент, тоже преобразуем в число\n",
    "            \"time\": float(row[3])\n",
    "        }\n",
    "        \n",
    "        # Добавляем готовый словарь в список экспериментов\n",
    "        experiments.append(experiment)\n",
    "    print(experiments)\n",
    "\n",
    "# Анализ прочитанных данных\n",
    "print(f\"\\nЗагружено {len(experiments)} экспериментов:\")\n",
    "for exp in experiments:\n",
    "    print(f\"{exp['id']}: {exp['model']} - точность {exp['accuracy']:.3f}\")\n",
    "\n",
    "# Поиск лучшего эксперимента\n",
    "best_experiment = experiments[0]  # Начинаем с первого эксперимента\n",
    "\n",
    "for experiment in experiments:\n",
    "    # Если нашли эксперимент с большей точностью\n",
    "    if experiment['accuracy'] > best_experiment['accuracy']:\n",
    "        best_experiment = experiment  # Обновляем лучший результат\n",
    "        \n",
    "print(f\"\\nЛучший результат: {best_experiment['model']} с точностью {best_experiment['accuracy']:.3f}\")"
   ]
  },
  {
   "cell_type": "markdown",
   "id": "08c80d5b-9671-4431-87f8-2dc93b47e812",
   "metadata": {},
   "source": [
    "# Глава 5. Обработка ошибок"
   ]
  },
  {
   "cell_type": "code",
   "execution_count": null,
   "id": "bcf6c3a4-2914-4865-8a21-aa511c59c4b5",
   "metadata": {},
   "outputs": [],
   "source": [
    "try:\n",
    "    print(10/2)\n",
    "except ZeroDivisionError as e: # Выполняется, если ошибка есть\n",
    "    print(e)\n",
    "else:\n",
    "    print(\"There was no error\")  # Выполняется, если ошибки нет\n",
    "finally:\n",
    "    print('Proceed')  # Выполняется в любом случае"
   ]
  },
  {
   "cell_type": "code",
   "execution_count": null,
   "id": "178843ee-3874-401c-890e-11ae878c1b8c",
   "metadata": {},
   "outputs": [],
   "source": [
    "def divide_nums(a, b):\n",
    "    if b == 0:\n",
    "        raise ValueError(\"Second num can't be 0\") # Добавления своего текста ошибки\n",
    "    return int(a/b)\n",
    "\n",
    "\n",
    "try:\n",
    "    a = divide_nums(10, 0)\n",
    "\n",
    "except Exception as e:\n",
    "    print(e)\n",
    "\n",
    "else:\n",
    "    print(a)"
   ]
  },
  {
   "cell_type": "code",
   "execution_count": null,
   "id": "1221821b-434c-40f6-8396-35d86bb8cbf7",
   "metadata": {},
   "outputs": [],
   "source": [
    "def safe_read_scores(filename):\n",
    "    \"\"\"\n",
    "    Безопасно читает файл с оценками, обрабатывая возможные ошибки.\n",
    "    \"\"\"\n",
    "    scores = []\n",
    "    \n",
    "    try:\n",
    "        with open(filename, \"r\", encoding=\"utf-8\") as file:\n",
    "            for line_number, line in enumerate(file, 1):\n",
    "                line = line.strip()\n",
    "                \n",
    "                if not line:  # Пропускаем пустые строки\n",
    "                    continue\n",
    "                    \n",
    "                try:\n",
    "                    # Пытаемся преобразовать строку в число\n",
    "                    score = float(line)\n",
    "                    \n",
    "                    # Проверяем, что оценка в разумных пределах\n",
    "                    if 0 <= score <= 1:\n",
    "                        scores.append(score)\n",
    "                    else:\n",
    "                        print(f\"Предупреждение: странная оценка {score} в строке {line_number}\")\n",
    "                        \n",
    "                except ValueError:\n",
    "                    print(f\"Ошибка: не удалось преобразовать '{line}' в число (строка {line_number})\")\n",
    "                    \n",
    "    except FileNotFoundError:\n",
    "        print(f\"Ошибка: файл '{filename}' не найден\")\n",
    "        return None\n",
    "        \n",
    "    except PermissionError:\n",
    "        print(f\"Ошибка: нет прав доступа к файлу '{filename}'\")\n",
    "        return None\n",
    "        \n",
    "    except Exception as e:\n",
    "        print(f\"Неожиданная ошибка при чтении файла: {e}\")\n",
    "        return None\n",
    "    \n",
    "    return scores\n",
    "\n",
    "# Использование функции\n",
    "scores = safe_read_scores(\"model_scores.txt\")\n",
    "if scores is not None:\n",
    "    if scores:\n",
    "        print(f\"Успешно прочитано {len(scores)} оценок\")\n",
    "        print(f\"Средняя оценка: {sum(scores)/len(scores):.3f}\")\n",
    "    else:\n",
    "        print(\"Файл пуст или не содержит корректных данных\")"
   ]
  },
  {
   "cell_type": "markdown",
   "id": "7a0f0cd7-b42d-4252-8597-ec93c2c5abfd",
   "metadata": {},
   "source": [
    "# Глава 6. Списковые включения и базовые операции с данными"
   ]
  },
  {
   "cell_type": "markdown",
   "id": "acf85e69-fb81-4f56-813b-a817f8889cd7",
   "metadata": {},
   "source": [
    "## Списковые включения для обработки данных"
   ]
  },
  {
   "cell_type": "markdown",
   "id": "dc61108c-6597-4bcb-8474-cbb82c89de2f",
   "metadata": {},
   "source": [
    "**Списковые включения (list comprehensions)** — это элегантный способ создания новых списков на основе существующих данных. Они особенно полезны при обработке результатов оценки."
   ]
  },
  {
   "cell_type": "code",
   "execution_count": null,
   "id": "314695b0-df37-461d-9575-f6d02a022ad3",
   "metadata": {},
   "outputs": [],
   "source": [
    "# Исходные данные - оценки модели от 0 до 1\n",
    "scores = [0.95, 0.67, 0.89, 0.45, 0.92, 0.56, 0.78]\n",
    "\n",
    "# Создаем пустой список для результата\n",
    "# Этот список будет заполняться элементами, которые прошли проверку\n",
    "good_scores = [] \n",
    "\n",
    "# Перебираем каждую оценку в списке scores\n",
    "# На каждой итерации переменная score получает значение очередного элемента\n",
    "for score in scores:\n",
    "    # Проверяем условие: оценка должна быть 0.8 или выше\n",
    "    # 0.8 = 80% точности - это наш порог для \"хорошей\" модели\n",
    "    if score >= 0.8:\n",
    "        # Если условие выполнено, добавляем эту оценку в список good_scores\n",
    "        # append() добавляет элемент в конец списка\n",
    "        good_scores.append(score)\n",
    "\n",
    "print(f\"Хорошие оценки (обычный способ): {good_scores}\")\n",
    "\n",
    "# ========== СПИСКОВОЕ ВКЛЮЧЕНИЕ (LIST COMPREHENSION) ==========\n",
    "# Тот же результат с помощью спискового включения\n",
    "# Это более компактный способ создать новый список на основе старого\n",
    "# Структура: [что_взять for элемент in исходный_список if условие]\n",
    "#            ↑         ↑                ↑                ↑\n",
    "#         результат  цикл          источник         фильтр\n",
    "good_scores_compact = [score for score in scores if score >= 0.8]\n",
    "\n",
    "print(f\"Хорошие оценки (списковое включение): {good_scores_compact}\")\n",
    "\n",
    "# Преобразование оценок в проценты\n",
    "percentages = [score * 100 for score in scores]\n",
    "print(f\"Оценки в процентах: {percentages}\")\n",
    "\n",
    "# Классификация оценок\n",
    "classifications = [\"отлично\" if score >= 0.9 else \"хорошо\" if score >= 0.7 else \"плохо\" \n",
    "                  for score in scores]\n",
    "print(f\"Классификация: {classifications}\")"
   ]
  },
  {
   "cell_type": "markdown",
   "id": "1265e31e-e7ee-442a-a7fc-51744a6ea716",
   "metadata": {},
   "source": [
    "# Глава 7. Создание классов"
   ]
  },
  {
   "cell_type": "markdown",
   "id": "16502998-e91c-43c3-9927-8976b972dfed",
   "metadata": {},
   "source": [
    "### Что такое классы и зачем они нужны\n",
    "\n",
    "**Класс** — это шаблон для создания объектов, которые объединяют данные и функции для работы с этими данными. Если функции помогают избежать дублирования кода, то классы помогают организовать связанные данные и функции в логические группы.\n",
    "\n",
    "Представьте, что вы оцениваете несколько AI-моделей. У каждой модели есть название, точность, время обучения, и вы хотите выполнять с ними одинаковые операции: сравнивать, сохранять результаты, вычислять метрики. Без классов вам пришлось бы создавать множество отдельных переменных и функций. Классы позволяют объединить все это в удобную структуру."
   ]
  },
  {
   "cell_type": "code",
   "execution_count": null,
   "id": "9af24ed2-bda8-4599-b147-28b8ab962976",
   "metadata": {},
   "outputs": [],
   "source": [
    "class AIModel:\n",
    "    # Метод для установки основных параметров модели\n",
    "    # self — это ссылка на конкретный объект, с которым мы работаем\n",
    "    def set_info(self, name, accuracy):\n",
    "        \"\"\"\n",
    "        Устанавливает основную информацию о модели.\n",
    "        \n",
    "        Аргументы:\n",
    "            name: название модели (строка)\n",
    "            accuracy: точность модели (число от 0 до 1)\n",
    "        \"\"\"\n",
    "        # self.name создает атрибут name для этого конкретного объекта\n",
    "        self.name = name\n",
    "        # self.accuracy создает атрибут accuracy для этого объекта\n",
    "        self.accuracy = accuracy\n",
    "    \n",
    "    # Метод для отображения информации о модели\n",
    "    def display_info(self):\n",
    "        \"\"\"Выводит информацию о модели.\"\"\"\n",
    "        print(f\"Модель: {self.name}\")\n",
    "        print(f\"Точность: {self.accuracy:.3f} ({self.accuracy*100:.1f}%)\")\n",
    "    \n",
    "    # Метод для проверки качества модели\n",
    "    def is_good_model(self):\n",
    "        \"\"\"\n",
    "        Проверяет, является ли модель достаточно точной.\n",
    "        \n",
    "        Возвращает:\n",
    "            bool: True, если точность >= 0.8, иначе False\n",
    "        \"\"\"\n",
    "        return self.accuracy >= 0.8\n",
    "\n",
    "# Создаем экземпляры класса\n",
    "model1 = AIModel()\n",
    "model2 = AIModel()\n",
    "\n",
    "# Устанавливаем данные для каждой модели\n",
    "# self передается автоматически, мы передаем только name и accuracy\n",
    "model1.set_info(\"GPT-4\", 0.92)\n",
    "model2.set_info(\"BERT\", 0.76)\n",
    "\n",
    "# Вызываем методы для каждой модели\n",
    "print(\"=== Информация о моделях ===\")\n",
    "model1.display_info()\n",
    "print()\n",
    "model2.display_info()\n",
    "print()\n",
    "\n",
    "# Проверяем качество моделей\n",
    "print(\"=== Оценка качества ===\")\n",
    "if model1.is_good_model():\n",
    "    print(f\"{model1.name} — хорошая модель!\")\n",
    "else:\n",
    "    print(f\"{model1.name} — требует улучшения\")\n",
    "\n",
    "if model2.is_good_model():\n",
    "    print(f\"{model2.name} — хорошая модель!\")\n",
    "else:\n",
    "    print(f\"{model2.name} — требует улучшения\")"
   ]
  },
  {
   "cell_type": "markdown",
   "id": "69b7d3b3-f0dd-4805-a407-52e4d28ebe01",
   "metadata": {},
   "source": [
    "## Метод инициализации init"
   ]
  },
  {
   "cell_type": "markdown",
   "id": "35a4abb2-544d-4086-9c92-62ec8fa78812",
   "metadata": {},
   "source": [
    "**Метод __init__** — это специальный метод, который автоматически вызывается при создании нового объекта. Он позволяет сразу устанавливать начальные значения атрибутов."
   ]
  },
  {
   "cell_type": "code",
   "execution_count": null,
   "id": "1203d262-aef5-4cf2-ad18-6465149171ea",
   "metadata": {},
   "outputs": [],
   "source": [
    "class AIModel:\n",
    "    # __init__ вызывается автоматически при создании объекта\n",
    "    # Это конструктор класса\n",
    "    def __init__(self, name, accuracy, training_time=None):\n",
    "        \"\"\"\n",
    "        Инициализирует новую модель AI.\n",
    "        \n",
    "        Аргументы:\n",
    "            name: название модели\n",
    "            accuracy: точность модели (от 0 до 1)\n",
    "            training_time: время обучения в минутах (необязательно)\n",
    "        \"\"\"\n",
    "        # Сохраняем переданные параметры как атрибуты объекта\n",
    "        self.name = name\n",
    "        self.accuracy = accuracy\n",
    "        self.training_time = training_time\n",
    "        \n",
    "        # Можем также вычислить дополнительные атрибуты\n",
    "        self.accuracy_percent = accuracy * 100\n",
    "        \n",
    "        # Атрибуты могут иметь значения по умолчанию\n",
    "        self.is_evaluated = False\n",
    "        self.evaluation_date = None\n",
    "        \n",
    "        print(f\"Создана модель: {self.name}\")\n",
    "    \n",
    "    def display_info(self):\n",
    "        \"\"\"Выводит полную информацию о модели.\"\"\"\n",
    "        print(f\"Название: {self.name}\")\n",
    "        print(f\"Точность: {self.accuracy:.3f} ({self.accuracy_percent:.1f}%)\")\n",
    "        \n",
    "        # Проверяем, указано ли время обучения\n",
    "        if self.training_time is not None:\n",
    "            print(f\"Время обучения: {self.training_time} минут\")\n",
    "        else:\n",
    "            print(\"Время обучения: не указано\")\n",
    "        \n",
    "        print(f\"Статус оценки: {'завершена' if self.is_evaluated else 'не проведена'}\")\n",
    "    \n",
    "    def mark_as_evaluated(self):\n",
    "        \"\"\"Отмечает модель как оцененную.\"\"\"\n",
    "        self.is_evaluated = True\n",
    "        # Можно добавить текущую дату (упрощенно)\n",
    "        self.evaluation_date = \"сегодня\"\n",
    "        print(f\"Модель {self.name} помечена как оцененная\")\n",
    "\n",
    "# Теперь можем создавать модели сразу с параметрами\n",
    "# __init__ вызывается автоматически\n",
    "model1 = AIModel(\"GPT-4\", 0.92, 180)  # С временем обучения\n",
    "model2 = AIModel(\"BERT\", 0.76)        # Без времени обучения\n",
    "print()\n",
    "\n",
    "# Используем методы\n",
    "print(\"=== Информация о моделях ===\")\n",
    "model1.display_info()\n",
    "print()\n",
    "model2.display_info()\n",
    "print()\n",
    "\n",
    "# Изменяем состояние модели\n",
    "model1.mark_as_evaluated()\n",
    "print()\n",
    "model1.display_info()"
   ]
  }
 ],
 "metadata": {
  "kernelspec": {
   "display_name": "Python 3 (ipykernel)",
   "language": "python",
   "name": "python3"
  },
  "language_info": {
   "codemirror_mode": {
    "name": "ipython",
    "version": 3
   },
   "file_extension": ".py",
   "mimetype": "text/x-python",
   "name": "python",
   "nbconvert_exporter": "python",
   "pygments_lexer": "ipython3",
   "version": "3.12.3"
  }
 },
 "nbformat": 4,
 "nbformat_minor": 5
}
